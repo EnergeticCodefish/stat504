{
 "cells": [
  {
   "cell_type": "markdown",
   "metadata": {},
   "source": [
    "# Stat 504 HW 3"
   ]
  },
  {
   "cell_type": "markdown",
   "metadata": {},
   "source": [
    "Note: For Data Set #2 (reviews_Musical_Instruments.json), please download the file here: https://dl.dropboxusercontent.com/u/102059479/reviews_Musical_Instruments.json"
   ]
  },
  {
   "cell_type": "code",
   "execution_count": 124,
   "metadata": {
    "collapsed": true
   },
   "outputs": [],
   "source": [
    "# import modules\n",
    "import numpy as np\n",
    "import pandas as pd\n",
    "import statsmodels.api as sm\n",
    "import matplotlib.pyplot as plt\n",
    "from patsy import dmatrices\n",
    "from sklearn.cross_validation import train_test_split\n",
    "from sklearn.cross_validation import cross_val_score\n",
    "from sklearn.feature_extraction.text import CountVectorizer\n",
    "from sklearn.neighbors import KNeighborsClassifier\n",
    "from sklearn.naive_bayes import GaussianNB\n",
    "from sklearn.naive_bayes import MultinomialNB\n",
    "from sklearn.tree import DecisionTreeClassifier\n",
    "from sklearn.linear_model import LogisticRegression\n",
    "from sklearn.ensemble import AdaBoostClassifier\n",
    "from sklearn.ensemble import RandomForestClassifier\n",
    "from sklearn.ensemble import BaggingClassifier\n",
    "from sklearn.svm import SVC\n",
    "from sklearn.metrics import mean_absolute_error\n",
    "from sklearn import metrics\n",
    "from sklearn.cross_validation import cross_val_score\n",
    "from sklearn.grid_search import GridSearchCV\n",
    "from sklearn import datasets\n",
    "from sklearn.feature_selection import RFE\n",
    "import time\n",
    "%matplotlib inline"
   ]
  },
  {
   "cell_type": "markdown",
   "metadata": {},
   "source": [
    "# Data set #1: Recidivism"
   ]
  },
  {
   "cell_type": "code",
   "execution_count": 125,
   "metadata": {
    "collapsed": false
   },
   "outputs": [
    {
     "data": {
      "text/plain": [
       "(39155, 341)"
      ]
     },
     "execution_count": 125,
     "metadata": {},
     "output_type": "execute_result"
    }
   ],
   "source": [
    "# read the crime data into a DataFrame\n",
    "dta = pd.read_csv('http://www.webpages.uidaho.edu/~stevel/504/STRONG-R%20Male%20Sample_Reduced_2014-03-14.csv', header=0)\n",
    "dta.shape"
   ]
  },
  {
   "cell_type": "code",
   "execution_count": 126,
   "metadata": {
    "collapsed": false
   },
   "outputs": [
    {
     "data": {
      "text/plain": [
       "(21373, 341)"
      ]
     },
     "execution_count": 126,
     "metadata": {},
     "output_type": "execute_result"
    }
   ],
   "source": [
    "# remove FelRecidYr2 equals to null, and save as a newdta (ndta)\n",
    "ndta = dta[dta.FelRecidYr3 != ' ']\n",
    "ndta.shape"
   ]
  },
  {
   "cell_type": "code",
   "execution_count": 127,
   "metadata": {
    "collapsed": false,
    "scrolled": true
   },
   "outputs": [
    {
     "data": {
      "text/html": [
       "<div>\n",
       "<table border=\"1\" class=\"dataframe\">\n",
       "  <thead>\n",
       "    <tr style=\"text-align: right;\">\n",
       "      <th></th>\n",
       "      <th>AgeAsses3RN</th>\n",
       "      <th>AgeAtFirstConvR</th>\n",
       "      <th>JvFelCon</th>\n",
       "      <th>JvVioCon</th>\n",
       "      <th>JvComit</th>\n",
       "      <th>HomConv</th>\n",
       "      <th>SexConv</th>\n",
       "      <th>VProCon</th>\n",
       "      <th>AssaCon</th>\n",
       "      <th>DomVio</th>\n",
       "      <th>...</th>\n",
       "      <th>CopFodNd3</th>\n",
       "      <th>CopBugNd3</th>\n",
       "      <th>CopTraNd3</th>\n",
       "      <th>CopHygNd3</th>\n",
       "      <th>CopMedNd3</th>\n",
       "      <th>CopMHNd3</th>\n",
       "      <th>FelRecidYr3</th>\n",
       "      <th>Unnamed: 338</th>\n",
       "      <th>Unnamed: 339</th>\n",
       "      <th>Unnamed: 340</th>\n",
       "    </tr>\n",
       "  </thead>\n",
       "  <tbody>\n",
       "    <tr>\n",
       "      <th>0</th>\n",
       "      <td>0</td>\n",
       "      <td>0</td>\n",
       "      <td>0</td>\n",
       "      <td>0</td>\n",
       "      <td>0</td>\n",
       "      <td>0</td>\n",
       "      <td>2</td>\n",
       "      <td>0</td>\n",
       "      <td>0</td>\n",
       "      <td>0</td>\n",
       "      <td>...</td>\n",
       "      <td>0</td>\n",
       "      <td>0</td>\n",
       "      <td>0</td>\n",
       "      <td>0</td>\n",
       "      <td>0</td>\n",
       "      <td>0</td>\n",
       "      <td>0</td>\n",
       "      <td>NaN</td>\n",
       "      <td>NaN</td>\n",
       "      <td>NaN</td>\n",
       "    </tr>\n",
       "    <tr>\n",
       "      <th>1</th>\n",
       "      <td>0</td>\n",
       "      <td>0</td>\n",
       "      <td>0</td>\n",
       "      <td>0</td>\n",
       "      <td>0</td>\n",
       "      <td>0</td>\n",
       "      <td>0</td>\n",
       "      <td>0</td>\n",
       "      <td>0</td>\n",
       "      <td>0</td>\n",
       "      <td>...</td>\n",
       "      <td>1</td>\n",
       "      <td>0</td>\n",
       "      <td>0</td>\n",
       "      <td>0</td>\n",
       "      <td>0</td>\n",
       "      <td>0</td>\n",
       "      <td>1</td>\n",
       "      <td>NaN</td>\n",
       "      <td>NaN</td>\n",
       "      <td>NaN</td>\n",
       "    </tr>\n",
       "    <tr>\n",
       "      <th>3</th>\n",
       "      <td>1</td>\n",
       "      <td>0</td>\n",
       "      <td>0</td>\n",
       "      <td>0</td>\n",
       "      <td>0</td>\n",
       "      <td>0</td>\n",
       "      <td>0</td>\n",
       "      <td>0</td>\n",
       "      <td>1</td>\n",
       "      <td>0</td>\n",
       "      <td>...</td>\n",
       "      <td>0</td>\n",
       "      <td>0</td>\n",
       "      <td>0</td>\n",
       "      <td>0</td>\n",
       "      <td>0</td>\n",
       "      <td>0</td>\n",
       "      <td>0</td>\n",
       "      <td>NaN</td>\n",
       "      <td>NaN</td>\n",
       "      <td>NaN</td>\n",
       "    </tr>\n",
       "    <tr>\n",
       "      <th>4</th>\n",
       "      <td>1</td>\n",
       "      <td>0</td>\n",
       "      <td>0</td>\n",
       "      <td>0</td>\n",
       "      <td>0</td>\n",
       "      <td>0</td>\n",
       "      <td>0</td>\n",
       "      <td>0</td>\n",
       "      <td>0</td>\n",
       "      <td>0</td>\n",
       "      <td>...</td>\n",
       "      <td>0</td>\n",
       "      <td>0</td>\n",
       "      <td>0</td>\n",
       "      <td>0</td>\n",
       "      <td>0</td>\n",
       "      <td>0</td>\n",
       "      <td>1</td>\n",
       "      <td>NaN</td>\n",
       "      <td>NaN</td>\n",
       "      <td>NaN</td>\n",
       "    </tr>\n",
       "    <tr>\n",
       "      <th>7</th>\n",
       "      <td>1</td>\n",
       "      <td>0</td>\n",
       "      <td>0</td>\n",
       "      <td>0</td>\n",
       "      <td>0</td>\n",
       "      <td>0</td>\n",
       "      <td>0</td>\n",
       "      <td>0</td>\n",
       "      <td>0</td>\n",
       "      <td>0</td>\n",
       "      <td>...</td>\n",
       "      <td>0</td>\n",
       "      <td>0</td>\n",
       "      <td>0</td>\n",
       "      <td>0</td>\n",
       "      <td>0</td>\n",
       "      <td>0</td>\n",
       "      <td>0</td>\n",
       "      <td>NaN</td>\n",
       "      <td>NaN</td>\n",
       "      <td>NaN</td>\n",
       "    </tr>\n",
       "  </tbody>\n",
       "</table>\n",
       "<p>5 rows × 341 columns</p>\n",
       "</div>"
      ],
      "text/plain": [
       "   AgeAsses3RN  AgeAtFirstConvR  JvFelCon  JvVioCon  JvComit  HomConv  \\\n",
       "0            0                0         0         0        0        0   \n",
       "1            0                0         0         0        0        0   \n",
       "3            1                0         0         0        0        0   \n",
       "4            1                0         0         0        0        0   \n",
       "7            1                0         0         0        0        0   \n",
       "\n",
       "   SexConv  VProCon  AssaCon  DomVio      ...       CopFodNd3  CopBugNd3  \\\n",
       "0        2        0        0       0      ...               0          0   \n",
       "1        0        0        0       0      ...               1          0   \n",
       "3        0        0        1       0      ...               0          0   \n",
       "4        0        0        0       0      ...               0          0   \n",
       "7        0        0        0       0      ...               0          0   \n",
       "\n",
       "   CopTraNd3  CopHygNd3  CopMedNd3  CopMHNd3  FelRecidYr3  Unnamed: 338  \\\n",
       "0          0          0          0         0            0           NaN   \n",
       "1          0          0          0         0            1           NaN   \n",
       "3          0          0          0         0            0           NaN   \n",
       "4          0          0          0         0            1           NaN   \n",
       "7          0          0          0         0            0           NaN   \n",
       "\n",
       "   Unnamed: 339  Unnamed: 340  \n",
       "0           NaN           NaN  \n",
       "1           NaN           NaN  \n",
       "3           NaN           NaN  \n",
       "4           NaN           NaN  \n",
       "7           NaN           NaN  \n",
       "\n",
       "[5 rows x 341 columns]"
      ]
     },
     "execution_count": 127,
     "metadata": {},
     "output_type": "execute_result"
    }
   ],
   "source": [
    "ndta.head()"
   ]
  },
  {
   "cell_type": "code",
   "execution_count": 128,
   "metadata": {
    "collapsed": false
   },
   "outputs": [
    {
     "data": {
      "text/plain": [
       "['AgeAsses3RN',\n",
       " 'AgeAtFirstConvR',\n",
       " 'JvFelCon',\n",
       " 'JvVioCon',\n",
       " 'JvComit',\n",
       " 'HomConv',\n",
       " 'SexConv',\n",
       " 'VProCon',\n",
       " 'AssaCon',\n",
       " 'DomVio',\n",
       " 'FelWeap',\n",
       " 'FelProp',\n",
       " 'DrugCon',\n",
       " 'EscpCon',\n",
       " 'MisAssa',\n",
       " 'MisdDom',\n",
       " 'MisdSex',\n",
       " 'MisDomNV',\n",
       " 'MisWeap',\n",
       " 'MisdProp',\n",
       " 'MisdDrug',\n",
       " 'MisdEscp',\n",
       " 'MisAlcoh',\n",
       " 'TotalAdultFelonies',\n",
       " 'LastConviction',\n",
       " 'TechVioPriorsR',\n",
       " 'CountInfracR',\n",
       " 'CountVioInfracR',\n",
       " 'CountInfracEverR',\n",
       " 'CountVioInfracEverR',\n",
       " 'SeriousInfrac',\n",
       " 'SeriousInfracEver',\n",
       " 'SexInfrac',\n",
       " 'SexInfracEver',\n",
       " 'STGStatus',\n",
       " 'YearlyVisitsMR',\n",
       " 'RelToSuperFromD',\n",
       " 'CChangeCurrRN',\n",
       " 'IJVVocationalCurrRC',\n",
       " 'StressAngerMngmtEverR',\n",
       " 'StressAngerMngmtCurrR',\n",
       " 'SexOffTreatEverR',\n",
       " 'SexOfftreatCurrR',\n",
       " 'EduGdCom3N',\n",
       " 'EDQuitExpell',\n",
       " 'EduAcdMot3N',\n",
       " 'EmpLeng3R',\n",
       " 'EmpJobSk3',\n",
       " 'EmInSou3RC',\n",
       " 'EmpMonIn3',\n",
       " 'EmHeRC',\n",
       " 'EmpSta3RC',\n",
       " 'EmPbNone3R',\n",
       " 'EmPbPPA3',\n",
       " 'EmPbPr3',\n",
       " 'EmPbAnti3',\n",
       " 'EmPbUn3',\n",
       " 'EmBrNone3R',\n",
       " 'EmBrSS3',\n",
       " 'EmBrEdu3',\n",
       " 'EmBrPS3',\n",
       " 'EmBrNEx3',\n",
       " 'EmBrPWH3',\n",
       " 'EmBrLM3',\n",
       " 'EmBrCCI3',\n",
       " 'EmBrDD3',\n",
       " 'EmBrTran3',\n",
       " 'EmBrMH3',\n",
       " 'EmBrCmR3',\n",
       " 'EmBrHyg3',\n",
       " 'EmBrDx3',\n",
       " 'EmBrPunc3',\n",
       " 'EmBrOth3',\n",
       " 'EmFiNoIn3',\n",
       " 'EmFiMetC3R',\n",
       " 'EmFiRPA3',\n",
       " 'EmFiRF3',\n",
       " 'EmFiPSCS3',\n",
       " 'EmFiCtM3',\n",
       " 'EmFiNRCS3R',\n",
       " 'EmFiRIA3',\n",
       " 'EmFiSDx3',\n",
       " 'EmFiRPP3',\n",
       " 'FrnNone3',\n",
       " 'FrnUnsta3',\n",
       " 'FrnWilHp3R',\n",
       " 'FrnProSo3R',\n",
       " 'FrnAntSo3',\n",
       " 'FrnGangM3',\n",
       " 'FrnAnti3RC',\n",
       " 'ResCuPri3',\n",
       " 'ResCuFam3',\n",
       " 'ResCuFr3',\n",
       " 'ResCuGH3',\n",
       " 'ResCuRTx3',\n",
       " 'ResCuHL3',\n",
       " 'ResCuTrn3',\n",
       " 'ResOcNo3',\n",
       " 'ResOcGP3',\n",
       " 'ResOcSp3',\n",
       " 'ResOcFrP3',\n",
       " 'ResOcACh3',\n",
       " 'ResOcFrA3',\n",
       " 'ResOcMCh3',\n",
       " 'ResOcAln3',\n",
       " 'ResOcMot3',\n",
       " 'ResOcFat3',\n",
       " 'ResOcOth3',\n",
       " 'ResNeiSp3RC',\n",
       " 'LongMarr3R',\n",
       " 'NumMarr3R',\n",
       " 'FamMinCh3',\n",
       " 'OffChild3RC',\n",
       " 'RelChild3',\n",
       " 'FPAInNo3',\n",
       " 'FPAInEst3',\n",
       " 'FPAInMin3',\n",
       " 'FPAInPos3R',\n",
       " 'FPAInNeg3',\n",
       " 'FPAInSep3',\n",
       " 'FPAInEna3',\n",
       " 'FPAPbNo3R',\n",
       " 'FPAPbAl3',\n",
       " 'FPAPbDx3',\n",
       " 'FPAPbAnt3',\n",
       " 'FPAPbCrm3',\n",
       " 'FPAPbEmp3',\n",
       " 'FPAPbPMH3',\n",
       " 'FPACfEst3',\n",
       " 'FPACfMIn3',\n",
       " 'FPACfSom3',\n",
       " 'FPACfVeb3',\n",
       " 'FPACfTPA3',\n",
       " 'FPACfPDV3',\n",
       " 'FPACfODV3',\n",
       " 'FPAHpEst3',\n",
       " 'FPAHpCon3R',\n",
       " 'FPAHpOcc3R',\n",
       " 'FPAHpNWH3',\n",
       " 'FPAHpHos3',\n",
       " 'FamInPos3R',\n",
       " 'FamInMin3',\n",
       " 'FamInNeg3',\n",
       " 'FamInEna3',\n",
       " 'FamPrNo3R',\n",
       " 'FamPrAl3',\n",
       " 'FamPrDx3',\n",
       " 'FamPrAnt3',\n",
       " 'FamPrCrm3',\n",
       " 'FamPrEmp3',\n",
       " 'FamPrPhyMH3',\n",
       " 'FamCfMin3',\n",
       " 'FamCfSom3',\n",
       " 'FamCfVeb3',\n",
       " 'FamCfTPA3',\n",
       " 'FamCfDV3',\n",
       " 'FamCfODV3',\n",
       " 'FamHpCon3R',\n",
       " 'FamHpOcc3R',\n",
       " 'FamHpNWH3',\n",
       " 'FamHpHos3',\n",
       " 'FamMCNo3',\n",
       " 'FamMCUnk3',\n",
       " 'FamMCNoC3',\n",
       " 'FamMCSR3',\n",
       " 'FamMCSaP3',\n",
       " 'FamMCSaC3',\n",
       " 'FamMCLAP3',\n",
       " 'FamMCPRT3',\n",
       " 'FamMCCOP3',\n",
       " 'FamMCCOC3',\n",
       " 'FamMCOVc3',\n",
       " 'FamMCRWO3R',\n",
       " 'FamMCSVO3R',\n",
       " 'FamMCNR3R',\n",
       " 'AgeUse3',\n",
       " 'DrugUse3',\n",
       " 'ALUse3',\n",
       " 'Meth3RC',\n",
       " 'Coc3RC',\n",
       " 'Heroin3RC',\n",
       " 'Pres3RC',\n",
       " 'HxAlcoh3',\n",
       " 'HxMeth3',\n",
       " 'HxCoc3',\n",
       " 'HxHeroin3',\n",
       " 'DrgHstPr3',\n",
       " 'Alcoh6m3',\n",
       " 'Meth6m3',\n",
       " 'Coc6m3',\n",
       " 'Heroin6m3',\n",
       " 'DrgRecPr3',\n",
       " 'DrgHImFC3',\n",
       " 'DrgHImDE3',\n",
       " 'DrgHImEP3',\n",
       " 'DrgHImPP3',\n",
       " 'DrgHImMH3',\n",
       " 'DrgHImPF3',\n",
       " 'DrgHImAF3',\n",
       " 'DrgHImCC3',\n",
       " 'DrgHImIV3',\n",
       " 'DrgRImFC3',\n",
       " 'DrgRImDE3',\n",
       " 'DrgRImEP3',\n",
       " 'DrgRImPP3',\n",
       " 'DrgRImMH3',\n",
       " 'DrgRImPF3',\n",
       " 'DrgRImAF3',\n",
       " 'DrgRImCC3',\n",
       " 'DrgRImIV3',\n",
       " 'DrgSuLl3',\n",
       " 'DrgSuII3',\n",
       " 'DrgSuGP3',\n",
       " 'DrgSuGD3',\n",
       " 'DrgSuSel3',\n",
       " 'DrgSuPC3',\n",
       " 'DrgSuFRx3',\n",
       " 'DrgSuPrs3',\n",
       " 'DrgSuBar3',\n",
       " 'DrgSuSha3',\n",
       " 'DrgSuOCA3',\n",
       " 'DxTxPg3MRV',\n",
       " 'DxProNvC3',\n",
       " 'DxProRGR3R',\n",
       " 'DxProRGL3R',\n",
       " 'DxProFr3R',\n",
       " 'DxProFam3R',\n",
       " 'DxProCRs3R',\n",
       " 'DxProOth3R',\n",
       " 'MHprobEv3R',\n",
       " 'MHDiag3',\n",
       " 'MHHosp3',\n",
       " 'MHSuNoHx3R',\n",
       " 'MHSuPaCo3',\n",
       " 'MHSuPaAt3',\n",
       " 'MHSuProv3',\n",
       " 'MHSuL6Co3',\n",
       " 'MHSuL6At3',\n",
       " 'MHSuOnGo3',\n",
       " 'MHCoNo3',\n",
       " 'MHCoOuEv3',\n",
       " 'MHCoPAOu3',\n",
       " 'MHCoRNA3',\n",
       " 'MHCoCuOu3R',\n",
       " 'MHmedNo3R',\n",
       " 'MHmedEv3',\n",
       " 'MHmedPa3',\n",
       " 'MHmedCC3R',\n",
       " 'MHmedNC3',\n",
       " 'AggBehCm3',\n",
       " 'AggBehCn3',\n",
       " 'AggBehOg3',\n",
       " 'AgChNoEv3R',\n",
       " 'AgChPa5Y3R',\n",
       " 'AgChDVCu3',\n",
       " 'AgChDVPa3',\n",
       " 'AgChDVFm3',\n",
       " 'AgChViOb3',\n",
       " 'AgChViPD3',\n",
       " 'AgChStal3',\n",
       " 'AgChFxUR3',\n",
       " 'AgChThr3',\n",
       " 'AgChExVi3',\n",
       " 'AgChBizB3',\n",
       " 'AgChRnVi3',\n",
       " 'AgChFrSe3',\n",
       " 'AgChAnCr3',\n",
       " 'AgChViCC3',\n",
       " 'AgChPAA3',\n",
       " 'AgChPACh3',\n",
       " 'AgChPAAd3',\n",
       " 'AgChPAMa3',\n",
       " 'AgChPAFe3',\n",
       " 'AgChPAUk3',\n",
       " 'AgChPAOt3',\n",
       " 'AgMoEVNo3R',\n",
       " 'AgMoAcGo3',\n",
       " 'AgMoPow3',\n",
       " 'AgMoImp3',\n",
       " 'AgMoPeSt3',\n",
       " 'AgMoRet3',\n",
       " 'AgMoRea3',\n",
       " 'AgMoExci3',\n",
       " 'AgMoHate3',\n",
       " 'AgMoDxIn3',\n",
       " 'AgMoLMed3',\n",
       " 'AgMoHosW3',\n",
       " 'AggWeap3RC',\n",
       " 'AtMoAng3',\n",
       " 'AtMoRet3',\n",
       " 'AtMoImp3',\n",
       " 'AtMoSex3',\n",
       " 'AtMoStRe3',\n",
       " 'AtMoPow3',\n",
       " 'AtMoMat3',\n",
       " 'AtMoExc3',\n",
       " 'AtMoPer3',\n",
       " 'AtMoDx3',\n",
       " 'AtChNo3R',\n",
       " 'AtChChar3',\n",
       " 'AtChFelS3',\n",
       " 'AtChNdTh3',\n",
       " 'AtChDecS3',\n",
       " 'AtChDecG3',\n",
       " 'AtChSup3',\n",
       " 'AtChPara3',\n",
       " 'AtChTact3',\n",
       " 'AtChCHea3',\n",
       " 'AtChFaPr3',\n",
       " 'AtChFaRe3',\n",
       " 'AtChCrDi3',\n",
       " 'AtRsL63R',\n",
       " 'AtRsSup3',\n",
       " 'AtRsMin3',\n",
       " 'AtRsDInR3',\n",
       " 'AtRsDCoR3',\n",
       " 'AtRsNBR3',\n",
       " 'AtRsCrUs3',\n",
       " 'AtRsBost3',\n",
       " 'AttAuth3',\n",
       " 'RespOth3',\n",
       " 'Readychg3',\n",
       " 'BelfSuc3',\n",
       " 'ConsThk3',\n",
       " 'ImpCont3',\n",
       " 'DealOth3',\n",
       " 'ProbSol3',\n",
       " 'CopLv3MRV',\n",
       " 'CopEmpNd3',\n",
       " 'CopHouNd3',\n",
       " 'CopCloNd3',\n",
       " 'CopFodNd3',\n",
       " 'CopBugNd3',\n",
       " 'CopTraNd3',\n",
       " 'CopHygNd3',\n",
       " 'CopMedNd3',\n",
       " 'CopMHNd3',\n",
       " 'FelRecidYr3',\n",
       " 'Unnamed: 338',\n",
       " 'Unnamed: 339',\n",
       " 'Unnamed: 340']"
      ]
     },
     "execution_count": 128,
     "metadata": {},
     "output_type": "execute_result"
    }
   ],
   "source": [
    "# list all field names\n",
    "list(ndta.columns.values)"
   ]
  },
  {
   "cell_type": "code",
   "execution_count": 129,
   "metadata": {
    "collapsed": false,
    "scrolled": true
   },
   "outputs": [
    {
     "name": "stdout",
     "output_type": "stream",
     "text": [
      "int32\n",
      "object\n"
     ]
    }
   ],
   "source": [
    "# add \"record\" column: 1 represents having FelRecidYr3 == 1, 0 represents not\n",
    "# Note: dfmi.loc[:,('one','second')] from http://pandas.pydata.org/pandas-docs/stable/indexing.html#indexing-view-versus-copy\n",
    "ndta.loc[:,('record')] = (ndta.FelRecidYr3 == '1').astype(int)\n",
    "# list two columns and their types\n",
    "print ndta.record.dtype\n",
    "print ndta.FelRecidYr3.dtype"
   ]
  },
  {
   "cell_type": "markdown",
   "metadata": {},
   "source": [
    "## Feature Selection (LogisticRegression) - 7 min"
   ]
  },
  {
   "cell_type": "markdown",
   "metadata": {},
   "source": [
    "We will select the first 100 attributes with the highest rank by the logistic regression method"
   ]
  },
  {
   "cell_type": "code",
   "execution_count": 130,
   "metadata": {
    "collapsed": true
   },
   "outputs": [],
   "source": [
    "# load the dataset\n",
    "X = ndta.loc[:,\"AgeAsses3RN\":\"CopMHNd3\"]\n",
    "y = ndta[\"record\"]\n",
    "names = list(ndta.dtypes.index)"
   ]
  },
  {
   "cell_type": "code",
   "execution_count": 17,
   "metadata": {
    "collapsed": false,
    "scrolled": true
   },
   "outputs": [
    {
     "name": "stdout",
     "output_type": "stream",
     "text": [
      "[ True False False  True  True  True False False False False False False\n",
      " False False False  True False False  True False False  True False  True\n",
      "  True False False False False False  True False  True  True  True  True\n",
      "  True False False  True  True False False False False False False False\n",
      "  True False  True False False False False False False False False False\n",
      "  True False False False  True False False False False  True False  True\n",
      "  True False False False False  True False  True False False False False\n",
      "  True False False False False False False False False  True  True  True\n",
      "  True False False False False  True  True False  True False False False\n",
      " False False False False False False  True  True  True  True False  True\n",
      " False False  True False  True  True False False  True False False False\n",
      "  True False  True  True  True False False  True False False False  True\n",
      " False False False False  True  True  True False False False  True  True\n",
      "  True False  True False  True  True False False False False False False\n",
      "  True False  True False  True  True False False False False False False\n",
      " False False False False False False  True  True  True False  True False\n",
      " False False False False False False False False False False  True False\n",
      " False  True  True False False  True False  True  True  True False  True\n",
      "  True  True False False False False False False False False False False\n",
      " False  True  True False  True False  True  True  True  True  True  True\n",
      " False False False  True  True False False False  True False False False\n",
      " False False False False False False False False  True  True False False\n",
      " False  True False False False  True False False False False False False\n",
      " False False False False False False False False False False False False\n",
      " False False False  True False False  True False False False False False\n",
      " False False False False False False False  True False False False  True\n",
      " False False False False  True  True False  True False False False False\n",
      " False False False False False False False  True False False False False\n",
      " False]\n",
      "[  1  87 130   1   1   1 124 200  75  19  36 110 146  35  61   1 201 216\n",
      "   1 222 167   1 142   1   1 211 118   7 120 205   1 119   1   1   1   1\n",
      "   1  78 172   1   1 220 219 218  51 164  67 225   1  68   1 209  65 176\n",
      " 145 109 174 223  66 231   1 175 233  32   1 173  83  92 141   1 213   1\n",
      "   1 212  71  53 112   1 121   1  21 207 122  47   1 165  49 183 151  48\n",
      " 228 103 156   1   1   1   1 171 139 230  37   1   1 140   1 168 104  69\n",
      " 125 189 188 237 194  14   1   1   1   1  34   1  23  42   1  24   1   1\n",
      "  41  84   1 123 214 196   1 215   1   1   1  79 182   1  70  62 126   1\n",
      "  96 227  93  12   1   1   1  94  95  97   1   1   1 132   1 133   1   1\n",
      " 181 135 163  18  17  13   1  20   1 160   1   1  29 238 206 221   6 128\n",
      "  55 138 105 136 127  60   1   1   1   2   1 137 114 193  44   5  43 147\n",
      "  56 210 170 159   1 148   4   1   1  52 169   1 107   1   1   1  46   1\n",
      "   1   1  28  72 108  58 195  57 149  45  89 129 155   1   1  85   1 134\n",
      "   1   1   1   1   1   1  81  80  82   1   1  25  38 101   1 143 152 191\n",
      " 217  90  88 202 179 232 113  54   1   1  50   8 208   1 131  33  74   1\n",
      " 186 102 187 235  39 166 203  76 154 153  86 100 204 106  40   3  77 180\n",
      " 150 199 157   1 158  99   1 192  59  64  10  11 178 115 190 116 224 234\n",
      " 177   1 117   9 229   1  27  22  26 197   1   1  98   1 184  91 185  30\n",
      "  31 198 144  15 111 161 162   1  73  63 226  16 236]\n",
      "duration: 361.291000s\n"
     ]
    }
   ],
   "source": [
    "start = time.time()\n",
    "# create a base classifier used to evaluate a subset of attributes\n",
    "model = LogisticRegression()\n",
    "# create the RFE model and select 100 attributes\n",
    "rfe = RFE(model, 100)\n",
    "rfe = rfe.fit(X, y)\n",
    "# summarize the selection of the attributes\n",
    "print(rfe.support_)\n",
    "print(rfe.ranking_)\n",
    "end = time.time()\n",
    "fs_time = end - start\n",
    "print \"duration: %fs\" % (fs_time)"
   ]
  },
  {
   "cell_type": "code",
   "execution_count": 18,
   "metadata": {
    "collapsed": false,
    "scrolled": true
   },
   "outputs": [
    {
     "name": "stdout",
     "output_type": "stream",
     "text": [
      "Features sorted by their rank:\n",
      "[(1.0, 'AgChFrSe3'), (1.0, 'AgChFxUR3'), (1.0, 'AgChPACh3'), (1.0, 'AgChThr3'), (1.0, 'AgeAsses3RN'), (1.0, 'Alcoh6m3'), (1.0, 'AtChCHea3'), (1.0, 'AtMoMat3'), (1.0, 'AtMoSex3'), (1.0, 'AtRsCrUs3'), (1.0, 'AtRsL63R'), (1.0, 'AtRsNBR3'), (1.0, 'AttAuth3'), (1.0, 'CopFodNd3'), (1.0, 'DrgHstPr3'), (1.0, 'DrgRImDE3'), (1.0, 'DrgRImIV3'), (1.0, 'DrgRImMH3'), (1.0, 'DrgRImPF3'), (1.0, 'DrgSuFRx3'), (1.0, 'DrgSuGD3'), (1.0, 'DrgSuGP3'), (1.0, 'DrgSuII3'), (1.0, 'DrgSuPC3'), (1.0, 'DrgSuPrs3'), (1.0, 'EmBrCCI3'), (1.0, 'EmBrHyg3'), (1.0, 'EmBrOth3'), (1.0, 'EmBrPS3'), (1.0, 'EmBrPunc3'), (1.0, 'EmFiNRCS3R'), (1.0, 'EmFiPSCS3'), (1.0, 'EmHeRC'), (1.0, 'EmInSou3RC'), (1.0, 'FPACfEst3'), (1.0, 'FPACfODV3'), (1.0, 'FPACfTPA3'), (1.0, 'FPAHpCon3R'), (1.0, 'FPAHpEst3'), (1.0, 'FPAHpHos3'), (1.0, 'FPAInEst3'), (1.0, 'FPAInMin3'), (1.0, 'FPAInNo3'), (1.0, 'FPAInPos3R'), (1.0, 'FPAInSep3'), (1.0, 'FPAPbAl3'), (1.0, 'FPAPbAnt3'), (1.0, 'FPAPbCrm3'), (1.0, 'FamCfDV3'), (1.0, 'FamCfODV3'), (1.0, 'FamCfTPA3'), (1.0, 'FamHpHos3'), (1.0, 'FamHpOcc3R'), (1.0, 'FamInEna3'), (1.0, 'FamMCCOC3'), (1.0, 'FamMCNo3'), (1.0, 'FamMCPRT3'), (1.0, 'FamMCRWO3R'), (1.0, 'FamMCSVO3R'), (1.0, 'FamPrCrm3'), (1.0, 'FamPrEmp3'), (1.0, 'FamPrPhyMH3'), (1.0, 'FrnUnsta3'), (1.0, 'Heroin6m3'), (1.0, 'HomConv'), (1.0, 'JvComit'), (1.0, 'JvVioCon'), (1.0, 'LastConviction'), (1.0, 'MHCoCuOu3R'), (1.0, 'MHCoNo3'), (1.0, 'MHDiag3'), (1.0, 'MHSuL6At3'), (1.0, 'MHSuL6Co3'), (1.0, 'MHSuNoHx3R'), (1.0, 'MHSuOnGo3'), (1.0, 'MHSuPaAt3'), (1.0, 'MHSuProv3'), (1.0, 'MHmedNC3'), (1.0, 'MHmedNo3R'), (1.0, 'MHprobEv3R'), (1.0, 'Meth6m3'), (1.0, 'MisWeap'), (1.0, 'MisdDom'), (1.0, 'MisdEscp'), (1.0, 'RelToSuperFromD'), (1.0, 'ResCuGH3'), (1.0, 'ResCuHL3'), (1.0, 'ResCuRTx3'), (1.0, 'ResCuTrn3'), (1.0, 'ResOcACh3'), (1.0, 'ResOcAln3'), (1.0, 'ResOcFrA3'), (1.0, 'STGStatus'), (1.0, 'SeriousInfrac'), (1.0, 'SexInfrac'), (1.0, 'SexInfracEver'), (1.0, 'StressAngerMngmtCurrR'), (1.0, 'StressAngerMngmtEverR'), (1.0, 'TotalAdultFelonies'), (1.0, 'YearlyVisitsMR'), (2.0, 'Coc6m3'), (3.0, 'AgMoLMed3'), (4.0, 'DrgRImPP3'), (5.0, 'DrgHImPP3'), (6.0, 'Meth3RC'), (7.0, 'CountVioInfracR'), (8.0, 'AgChBizB3'), (9.0, 'AtChFaRe3'), (10.0, 'AtChNo3R'), (11.0, 'AtChChar3'), (12.0, 'FamPrAnt3'), (13.0, 'FamMCLAP3'), (14.0, 'RelChild3'), (15.0, 'CopLv3MRV'), (16.0, 'CopMedNd3'), (17.0, 'FamMCSaC3'), (18.0, 'FamMCSaP3'), (19.0, 'DomVio'), (20.0, 'FamMCCOP3'), (21.0, 'EmFiRIA3'), (22.0, 'AtRsMin3'), (23.0, 'FPAInEna3'), (24.0, 'FPAPbDx3'), (25.0, 'MHmedEv3'), (26.0, 'AtRsDInR3'), (27.0, 'AtRsSup3'), (28.0, 'DrgSuBar3'), (29.0, 'FamMCNR3R'), (30.0, 'ConsThk3'), (31.0, 'ImpCont3'), (32.0, 'EmBrLM3'), (33.0, 'AgChViCC3'), (34.0, 'FPAInNeg3'), (35.0, 'EscpCon'), (36.0, 'FelWeap'), (37.0, 'ResOcFrP3'), (38.0, 'MHmedPa3'), (39.0, 'AgChPAOt3'), (40.0, 'AgMoDxIn3'), (41.0, 'FPAPbEmp3'), (42.0, 'FPAPbNo3R'), (43.0, 'DrgHImMH3'), (44.0, 'DrgHImEP3'), (45.0, 'DxProFr3R'), (46.0, 'DrgSuSel3'), (47.0, 'FrnNone3'), (48.0, 'FrnAnti3RC'), (49.0, 'FrnProSo3R'), (50.0, 'AgChExVi3'), (51.0, 'EDQuitExpell'), (52.0, 'DrgRImAF3'), (53.0, 'EmFiRPA3'), (54.0, 'AgChStal3'), (55.0, 'Heroin3RC'), (56.0, 'DrgHImAF3'), (57.0, 'DxProRGR3R'), (58.0, 'DxTxPg3MRV'), (59.0, 'AtMoPer3'), (60.0, 'HxHeroin3'), (61.0, 'MisAssa'), (62.0, 'FamInMin3'), (63.0, 'CopTraNd3'), (64.0, 'AtMoDx3'), (65.0, 'EmPbNone3R'), (66.0, 'EmBrSS3'), (67.0, 'EmpLeng3R'), (68.0, 'EmpMonIn3'), (69.0, 'ResOcOth3'), (70.0, 'FamInPos3R'), (71.0, 'EmFiMetC3R'), (72.0, 'DrgSuSha3'), (73.0, 'CopBugNd3'), (74.0, 'AgChPAA3'), (75.0, 'AssaCon'), (76.0, 'AgMoPow3'), (77.0, 'AgMoHosW3'), (78.0, 'CChangeCurrRN'), (79.0, 'FPAHpOcc3R'), (80.0, 'MHCoPAOu3'), (81.0, 'MHCoOuEv3'), (82.0, 'MHCoRNA3'), (83.0, 'EmBrTran3'), (84.0, 'FPAPbPMH3'), (85.0, 'MHHosp3'), (86.0, 'AgMoRet3'), (87.0, 'AgeAtFirstConvR'), (88.0, 'AgChDVCu3'), (89.0, 'DxProFam3R'), (90.0, 'AgChPa5Y3R'), (91.0, 'Readychg3'), (92.0, 'EmBrMH3'), (93.0, 'FamPrDx3'), (94.0, 'FamCfMin3'), (95.0, 'FamCfSom3'), (96.0, 'FamPrNo3R'), (97.0, 'FamCfVeb3'), (98.0, 'AtRsBost3'), (99.0, 'AtMoPow3'), (100.0, 'AgMoRea3'), (101.0, 'MHmedCC3R'), (102.0, 'AgChPAMa3'), (103.0, 'ResCuFam3'), (104.0, 'ResOcFat3'), (105.0, 'HxAlcoh3'), (106.0, 'AgMoHate3'), (107.0, 'DrgSuLl3'), (108.0, 'DrgSuOCA3'), (109.0, 'EmPbAnti3'), (110.0, 'FelProp'), (111.0, 'CopEmpNd3'), (112.0, 'EmFiRF3'), (113.0, 'AgChViPD3'), (114.0, 'DrgHImFC3'), (115.0, 'AtChNdTh3'), (116.0, 'AtChDecG3'), (117.0, 'AtChFaPr3'), (118.0, 'CountInfracR'), (119.0, 'SeriousInfracEver'), (120.0, 'CountInfracEverR'), (121.0, 'EmFiCtM3'), (122.0, 'EmFiRPP3'), (123.0, 'FPACfMIn3'), (124.0, 'SexConv'), (125.0, 'ResNeiSp3RC'), (126.0, 'FamInNeg3'), (127.0, 'HxCoc3'), (128.0, 'Coc3RC'), (129.0, 'DxProCRs3R'), (130.0, 'JvFelCon'), (131.0, 'AgChAnCr3'), (132.0, 'FamHpCon3R'), (133.0, 'FamHpNWH3'), (134.0, 'MHSuPaCo3'), (135.0, 'FamMCNoC3'), (136.0, 'HxMeth3'), (137.0, 'DrgRecPr3'), (138.0, 'Pres3RC'), (139.0, 'ResOcGP3'), (140.0, 'ResOcMCh3'), (141.0, 'EmBrCmR3'), (142.0, 'MisAlcoh'), (143.0, 'AggBehCm3'), (144.0, 'ProbSol3'), (145.0, 'EmPbPr3'), (146.0, 'DrugCon'), (147.0, 'DrgHImPF3'), (148.0, 'DrgRImEP3'), (149.0, 'DxProRGL3R'), (150.0, 'AtMoAng3'), (151.0, 'FrnGangM3'), (152.0, 'AggBehCn3'), (153.0, 'AgMoPeSt3'), (154.0, 'AgMoImp3'), (155.0, 'DxProOth3R'), (156.0, 'ResCuFr3'), (157.0, 'AtMoImp3'), (158.0, 'AtMoStRe3'), (159.0, 'DrgRImFC3'), (160.0, 'FamMCOVc3'), (161.0, 'CopHouNd3'), (162.0, 'CopCloNd3'), (163.0, 'FamMCSR3'), (164.0, 'EduAcdMot3N'), (165.0, 'FrnWilHp3R'), (166.0, 'AgMoEVNo3R'), (167.0, 'MisdDrug'), (168.0, 'ResOcMot3'), (169.0, 'DrgRImCC3'), (170.0, 'DrgHImIV3'), (171.0, 'ResOcNo3'), (172.0, 'IJVVocationalCurrRC'), (173.0, 'EmBrDD3'), (174.0, 'EmPbUn3'), (175.0, 'EmBrNEx3'), (176.0, 'EmPbPPA3'), (177.0, 'AtChTact3'), (178.0, 'AtChFelS3'), (179.0, 'AgChDVFm3'), (180.0, 'AggWeap3RC'), (181.0, 'FamMCUnk3'), (182.0, 'FPAHpNWH3'), (183.0, 'FrnAntSo3'), (184.0, 'RespOth3'), (185.0, 'BelfSuc3'), (186.0, 'AgChPAAd3'), (187.0, 'AgChPAFe3'), (188.0, 'NumMarr3R'), (189.0, 'LongMarr3R'), (190.0, 'AtChDecS3'), (191.0, 'AggBehOg3'), (192.0, 'AtMoExc3'), (193.0, 'DrgHImDE3'), (194.0, 'OffChild3RC'), (195.0, 'DxProNvC3'), (196.0, 'FPACfVeb3'), (197.0, 'AtRsDCoR3'), (198.0, 'DealOth3'), (199.0, 'AtMoRet3'), (200.0, 'VProCon'), (201.0, 'MisdSex'), (202.0, 'AgChDVPa3'), (203.0, 'AgMoAcGo3'), (204.0, 'AgMoExci3'), (205.0, 'CountVioInfracEverR'), (206.0, 'DrugUse3'), (207.0, 'EmFiSDx3'), (208.0, 'AgChRnVi3'), (209.0, 'EmpSta3RC'), (210.0, 'DrgHImCC3'), (211.0, 'TechVioPriorsR'), (212.0, 'EmFiNoIn3'), (213.0, 'EmBrDx3'), (214.0, 'FPACfSom3'), (215.0, 'FPACfPDV3'), (216.0, 'MisDomNV'), (217.0, 'AgChNoEv3R'), (218.0, 'EduGdCom3N'), (219.0, 'SexOfftreatCurrR'), (220.0, 'SexOffTreatEverR'), (221.0, 'ALUse3'), (222.0, 'MisdProp'), (223.0, 'EmBrNone3R'), (224.0, 'AtChSup3'), (225.0, 'EmpJobSk3'), (226.0, 'CopHygNd3'), (227.0, 'FamPrAl3'), (228.0, 'ResCuPri3'), (229.0, 'AtChCrDi3'), (230.0, 'ResOcSp3'), (231.0, 'EmBrEdu3'), (232.0, 'AgChViOb3'), (233.0, 'EmBrPWH3'), (234.0, 'AtChPara3'), (235.0, 'AgChPAUk3'), (236.0, 'CopMHNd3'), (237.0, 'FamMinCh3'), (238.0, 'AgeUse3')]\n"
     ]
    }
   ],
   "source": [
    "print \"Features sorted by their rank:\"\n",
    "print sorted(zip(map(lambda x: round(x, 4), rfe.ranking_), names), reverse=False)"
   ]
  },
  {
   "cell_type": "code",
   "execution_count": 131,
   "metadata": {
    "collapsed": false,
    "scrolled": false
   },
   "outputs": [
    {
     "name": "stdout",
     "output_type": "stream",
     "text": [
      "['AgeUse3', 'FamMinCh3', 'CopMHNd3', 'AgChPAUk3', 'AtChPara3', 'EmBrPWH3', 'AgChViOb3', 'EmBrEdu3', 'ResOcSp3', 'AtChCrDi3', 'ResCuPri3', 'FamPrAl3', 'CopHygNd3', 'EmpJobSk3', 'AtChSup3', 'EmBrNone3R', 'MisdProp', 'ALUse3', 'SexOffTreatEverR', 'SexOfftreatCurrR', 'EduGdCom3N', 'AgChNoEv3R', 'MisDomNV', 'FPACfPDV3', 'FPACfSom3', 'EmBrDx3', 'EmFiNoIn3', 'TechVioPriorsR', 'DrgHImCC3', 'EmpSta3RC', 'AgChRnVi3', 'EmFiSDx3', 'DrugUse3', 'CountVioInfracEverR', 'AgMoExci3', 'AgMoAcGo3', 'AgChDVPa3', 'MisdSex', 'VProCon', 'AtMoRet3', 'DealOth3', 'AtRsDCoR3', 'FPACfVeb3', 'DxProNvC3', 'OffChild3RC', 'DrgHImDE3', 'AtMoExc3', 'AggBehOg3', 'AtChDecS3', 'LongMarr3R', 'NumMarr3R', 'AgChPAFe3', 'AgChPAAd3', 'BelfSuc3', 'RespOth3', 'FrnAntSo3', 'FPAHpNWH3', 'FamMCUnk3', 'AggWeap3RC', 'AgChDVFm3', 'AtChFelS3', 'AtChTact3', 'EmPbPPA3', 'EmBrNEx3', 'EmPbUn3', 'EmBrDD3', 'IJVVocationalCurrRC', 'ResOcNo3', 'DrgHImIV3', 'DrgRImCC3', 'ResOcMot3', 'MisdDrug', 'AgMoEVNo3R', 'FrnWilHp3R', 'EduAcdMot3N', 'FamMCSR3', 'CopCloNd3', 'CopHouNd3', 'FamMCOVc3', 'DrgRImFC3', 'AtMoStRe3', 'AtMoImp3', 'ResCuFr3', 'DxProOth3R', 'AgMoImp3', 'AgMoPeSt3', 'AggBehCn3', 'FrnGangM3', 'AtMoAng3', 'DxProRGL3R', 'DrgRImEP3', 'DrgHImPF3', 'DrugCon', 'EmPbPr3', 'ProbSol3', 'AggBehCm3', 'MisAlcoh', 'EmBrCmR3', 'ResOcMCh3', 'ResOcGP3']\n"
     ]
    }
   ],
   "source": [
    "# Select the top ranking features\n",
    "selectedVar = sorted(zip(map(lambda x: round(x, 4), rfe.ranking_), names), reverse=True)\n",
    "selectedFeatures = [x[1] for x in selectedVar[:100]]\n",
    "print selectedFeatures"
   ]
  },
  {
   "cell_type": "code",
   "execution_count": 132,
   "metadata": {
    "collapsed": true
   },
   "outputs": [],
   "source": [
    "# split the new DataFrame into training and testing sets\n",
    "X = ndta.loc[:,selectedFeatures]\n",
    "y = ndta[\"record\"]\n",
    "names = list(ndta.dtypes.index)\n",
    "X_train, X_test, y_train, y_test = train_test_split(X, y, random_state=1)"
   ]
  },
  {
   "cell_type": "markdown",
   "metadata": {},
   "source": [
    "## Model hyper-parameters optimization"
   ]
  },
  {
   "cell_type": "markdown",
   "metadata": {},
   "source": [
    "### tuning n_neighbor for KNN"
   ]
  },
  {
   "cell_type": "code",
   "execution_count": 21,
   "metadata": {
    "collapsed": false
   },
   "outputs": [],
   "source": [
    "# 10-fold cross-validation with K=18 for KNN (the n_neighbors parameter)\n",
    "knn = KNeighborsClassifier(n_neighbors=5)\n",
    "scores1 = cross_val_score(knn, X, y, cv=10, scoring='accuracy')"
   ]
  },
  {
   "cell_type": "code",
   "execution_count": 22,
   "metadata": {
    "collapsed": false
   },
   "outputs": [
    {
     "name": "stdout",
     "output_type": "stream",
     "text": [
      "[ 0.69176801  0.70533209  0.696913    0.68615529  0.68788021  0.67805335\n",
      "  0.66682265  0.61394478  0.62938699  0.6488764 ]\n"
     ]
    }
   ],
   "source": [
    "print scores1"
   ]
  },
  {
   "cell_type": "code",
   "execution_count": 23,
   "metadata": {
    "collapsed": false
   },
   "outputs": [
    {
     "name": "stdout",
     "output_type": "stream",
     "text": [
      "{'n_neighbors': [1, 2, 3, 4, 5, 6, 7, 8, 9, 10, 11, 12, 13, 14, 15, 16, 17, 18, 19, 20, 21, 22, 23, 24, 25, 26, 27, 28, 29, 30]}\n",
      "GridSearchCV(cv=10, error_score='raise',\n",
      "       estimator=KNeighborsClassifier(algorithm='auto', leaf_size=30, metric='minkowski',\n",
      "           metric_params=None, n_neighbors=5, p=2, weights='uniform'),\n",
      "       fit_params={}, iid=True, loss_func=None, n_jobs=1,\n",
      "       param_grid={'n_neighbors': [1, 2, 3, 4, 5, 6, 7, 8, 9, 10, 11, 12, 13, 14, 15, 16, 17, 18, 19, 20, 21, 22, 23, 24, 25, 26, 27, 28, 29, 30]},\n",
      "       pre_dispatch='2*n_jobs', refit=True, score_func=None,\n",
      "       scoring='accuracy', verbose=0)\n",
      "{'n_neighbors': 1}\n",
      "[ 0.6272217   0.66417212  0.6585594   0.65247895  0.65839963  0.6335985\n",
      "  0.64061769  0.57978474  0.5741694   0.58988764]\n",
      "0.62789500772\n",
      "[0.6278950077200206, 0.67861320357460342, 0.65727787395311843, 0.6846020680297572, 0.67051887895943485, 0.68689468020399569, 0.67847283956393578, 0.68853226032845183, 0.68488279605109248, 0.69330463669115239, 0.69105881252046975, 0.69246245262714645, 0.69077808449913447, 0.69498900481916437, 0.69325784868759655, 0.69508258082627616, 0.69475506480138494, 0.69723482898984701, 0.69475506480138494, 0.69653300893650871, 0.69545688485472323, 0.69788986103962947, 0.69648622093295276, 0.69784307303607351, 0.69704767697562342, 0.69770270902540588, 0.69751555701118229, 0.69924671314275022, 0.69868525710007956, 0.69910634913208258]\n",
      "duration: 3147.283000s\n"
     ]
    },
    {
     "data": {
      "image/png": "[encoded data removed]",
      "text/plain": [
       "<matplotlib.figure.Figure at 0x18f32e80>"
      ]
     },
     "metadata": {},
     "output_type": "display_data"
    }
   ],
   "source": [
    "start = time.time()\n",
    "# define the parameter values that should be searched\n",
    "k_range = range(1, 31)\n",
    "# create a parameter grid: map the parameter names to the values that should be searched\n",
    "param_grid = dict(n_neighbors=k_range)\n",
    "print param_grid\n",
    "# instantiate the grid\n",
    "grid = GridSearchCV(knn, param_grid, cv=10, scoring='accuracy')\n",
    "# fit the grid with data\n",
    "print grid.fit(X, y)\n",
    "# view the complete results (list of named tuples)\n",
    "grid.grid_scores_\n",
    "# examine the first tuple\n",
    "print grid.grid_scores_[0].parameters\n",
    "print grid.grid_scores_[0].cv_validation_scores\n",
    "print grid.grid_scores_[0].mean_validation_score\n",
    "# create a list of the mean scores only\n",
    "grid_mean_scores = [result.mean_validation_score for result in grid.grid_scores_]\n",
    "print grid_mean_scores\n",
    "# plot the results\n",
    "plt.plot(k_range, grid_mean_scores)\n",
    "plt.xlabel('Value of K for KNN')\n",
    "plt.ylabel('Cross-Validated Accuracy')\n",
    "end = time.time()\n",
    "knn_time = end - start\n",
    "print \"duration: %fs\" % (knn_time)"
   ]
  },
  {
   "cell_type": "code",
   "execution_count": 24,
   "metadata": {
    "collapsed": false
   },
   "outputs": [
    {
     "name": "stdout",
     "output_type": "stream",
     "text": [
      "0.699246713143\n",
      "{'n_neighbors': 28}\n",
      "KNeighborsClassifier(algorithm='auto', leaf_size=30, metric='minkowski',\n",
      "           metric_params=None, n_neighbors=28, p=2, weights='uniform')\n"
     ]
    }
   ],
   "source": [
    "# examine the best model\n",
    "print grid.best_score_\n",
    "print grid.best_params_\n",
    "print grid.best_estimator_"
   ]
  },
  {
   "cell_type": "markdown",
   "metadata": {},
   "source": [
    "### tuning C for Logistic Regression"
   ]
  },
  {
   "cell_type": "code",
   "execution_count": 51,
   "metadata": {
    "collapsed": false
   },
   "outputs": [
    {
     "name": "stdout",
     "output_type": "stream",
     "text": [
      "{'C': [1, 2, 3, 4, 5, 6, 7, 8, 9, 10, 11, 12, 13, 14, 15, 16, 17, 18, 19, 20, 21, 22, 23, 24, 25, 26, 27, 28, 29, 30]}\n",
      "GridSearchCV(cv=10, error_score='raise',\n",
      "       estimator=LogisticRegression(C=1.0, class_weight=None, dual=False, fit_intercept=True,\n",
      "          intercept_scaling=1, max_iter=100, multi_class='ovr',\n",
      "          penalty='l2', random_state=None, solver='liblinear', tol=0.0001,\n",
      "          verbose=0),\n",
      "       fit_params={}, iid=True, loss_func=None, n_jobs=1,\n",
      "       param_grid={'C': [1, 2, 3, 4, 5, 6, 7, 8, 9, 10, 11, 12, 13, 14, 15, 16, 17, 18, 19, 20, 21, 22, 23, 24, 25, 26, 27, 28, 29, 30]},\n",
      "       pre_dispatch='2*n_jobs', refit=True, score_func=None,\n",
      "       scoring='accuracy', verbose=0)\n",
      "{'C': 1}\n",
      "[ 0.71936389  0.71936389  0.71515435  0.70860617  0.72204024  0.70285447\n",
      "  0.72297613  0.65325222  0.64763687  0.68398876]\n",
      "0.699527441164\n",
      "[0.6995274411640855, 0.69962101717119729, 0.69971459317830909, 0.69966780517475324, 0.69976138118186493, 0.69976138118186493, 0.69976138118186493, 0.69976138118186493, 0.69976138118186493, 0.69976138118186493, 0.69980816918542088, 0.69985495718897672, 0.69985495718897672, 0.69990174519253268, 0.69990174519253268, 0.69990174519253268, 0.69990174519253268, 0.69990174519253268, 0.69990174519253268, 0.69990174519253268, 0.69990174519253268, 0.69990174519253268, 0.69990174519253268, 0.69990174519253268, 0.69990174519253268, 0.69990174519253268, 0.69990174519253268, 0.69990174519253268, 0.69990174519253268, 0.69990174519253268]\n",
      "duration: 105.637000s\n"
     ]
    },
    {
     "data": {
      "image/png": "[encoded data removed]",
      "text/plain": [
       "<matplotlib.figure.Figure at 0x34150b8>"
      ]
     },
     "metadata": {},
     "output_type": "display_data"
    }
   ],
   "source": [
    "start = time.time()\n",
    "\n",
    "model = LogisticRegression()\n",
    "model.fit(X_train, y_train)\n",
    "# define the parameter values that should be searched\n",
    "test_range = range(1, 31)\n",
    "# create a parameter grid: map the parameter names to the values that should be searched\n",
    "param_grid = dict(C=test_range)\n",
    "print param_grid\n",
    "# instantiate the grid\n",
    "grid = GridSearchCV(model, param_grid, cv=10, scoring='accuracy')\n",
    "# fit the grid with data\n",
    "print grid.fit(X, y)\n",
    "# view the complete results (list of named tuples)\n",
    "grid.grid_scores_\n",
    "# examine the first tuple\n",
    "print grid.grid_scores_[0].parameters\n",
    "print grid.grid_scores_[0].cv_validation_scores\n",
    "print grid.grid_scores_[0].mean_validation_score\n",
    "# create a list of the mean scores only\n",
    "grid_mean_scores = [result.mean_validation_score for result in grid.grid_scores_]\n",
    "print grid_mean_scores\n",
    "# plot the results\n",
    "plt.plot(test_range, grid_mean_scores)\n",
    "plt.xlabel('Value of C for Logistic Regression')\n",
    "plt.ylabel('Cross-Validated Accuracy')\n",
    "\n",
    "end = time.time()\n",
    "logi_time = end - start\n",
    "print \"duration: %fs\" % (logi_time)"
   ]
  },
  {
   "cell_type": "code",
   "execution_count": 53,
   "metadata": {
    "collapsed": false
   },
   "outputs": [
    {
     "name": "stdout",
     "output_type": "stream",
     "text": [
      "0.699901745193\n",
      "{'C': 14}\n",
      "LogisticRegression(C=14, class_weight=None, dual=False, fit_intercept=True,\n",
      "          intercept_scaling=1, max_iter=100, multi_class='ovr',\n",
      "          penalty='l2', random_state=None, solver='liblinear', tol=0.0001,\n",
      "          verbose=0)\n"
     ]
    }
   ],
   "source": [
    "# examine the best model\n",
    "print grid.best_score_\n",
    "print grid.best_params_\n",
    "print grid.best_estimator_"
   ]
  },
  {
   "cell_type": "markdown",
   "metadata": {},
   "source": [
    "### tuning max_depth for Classification Tree"
   ]
  },
  {
   "cell_type": "code",
   "execution_count": 26,
   "metadata": {
    "collapsed": false
   },
   "outputs": [
    {
     "name": "stdout",
     "output_type": "stream",
     "text": [
      "{'max_depth': [1, 2, 3, 4, 5, 6, 7, 8, 9, 10, 11, 12, 13, 14, 15, 16, 17, 18, 19, 20]}\n",
      "GridSearchCV(cv=10, error_score='raise',\n",
      "       estimator=DecisionTreeClassifier(class_weight=None, criterion='gini', max_depth=1,\n",
      "            max_features=None, max_leaf_nodes=None, min_samples_leaf=1,\n",
      "            min_samples_split=2, min_weight_fraction_leaf=0.0,\n",
      "            random_state=1, splitter='best'),\n",
      "       fit_params={}, iid=True, loss_func=None, n_jobs=1,\n",
      "       param_grid={'max_depth': [1, 2, 3, 4, 5, 6, 7, 8, 9, 10, 11, 12, 13, 14, 15, 16, 17, 18, 19, 20]},\n",
      "       pre_dispatch='2*n_jobs', refit=True, score_func=None,\n",
      "       scoring='accuracy', verbose=0)\n",
      "{'max_depth': 1}\n",
      "[ 0.66651076  0.6950421   0.6950421   0.6950421   0.69536734  0.67898924\n",
      "  0.69536734  0.6499766   0.65278428  0.66432584]\n",
      "0.678847143592\n",
      "[0.67884714359238296, 0.70757497777569833, 0.70322369344500069, 0.70041641323164738, 0.69774949702896183, 0.69597155289383805, 0.69293033266270532, 0.68745613624666635, 0.68235624385907456, 0.67444907125812936, 0.66743087072474616, 0.66401534646516636, 0.65517241379310343, 0.65016609741262343, 0.64721845318860249, 0.63870303654143079, 0.6321995040471623, 0.62981331586581202, 0.62667851962756749, 0.62012819912974315]\n",
      "duration: 50.996000s\n"
     ]
    },
    {
     "data": {
      "image/png": "[encoded data removed]",
      "text/plain": [
       "<matplotlib.figure.Figure at 0x18886908>"
      ]
     },
     "metadata": {},
     "output_type": "display_data"
    }
   ],
   "source": [
    "start = time.time()\n",
    "\n",
    "model = DecisionTreeClassifier()\n",
    "model.fit(X_train, y_train)\n",
    "# define the parameter values that should be searched\n",
    "test_range = range(1, 21)\n",
    "# create a parameter grid: map the parameter names to the values that should be searched\n",
    "param_grid = dict(max_depth=test_range)\n",
    "print param_grid\n",
    "# instantiate the grid\n",
    "grid = GridSearchCV(model, param_grid, cv=10, scoring='accuracy')\n",
    "# fit the grid with data\n",
    "print grid.fit(X, y)\n",
    "# view the complete results (list of named tuples)\n",
    "grid.grid_scores_\n",
    "# examine the first tuple\n",
    "print grid.grid_scores_[0].parameters\n",
    "print grid.grid_scores_[0].cv_validation_scores\n",
    "print grid.grid_scores_[0].mean_validation_score\n",
    "# create a list of the mean scores only\n",
    "grid_mean_scores = [result.mean_validation_score for result in grid.grid_scores_]\n",
    "print grid_mean_scores\n",
    "# plot the results\n",
    "plt.plot(test_range, grid_mean_scores)\n",
    "plt.xlabel('Value of max_depth for Classification Tree')\n",
    "plt.ylabel('Cross-Validated Accuracy')\n",
    "\n",
    "end = time.time()\n",
    "tree_time = end - start\n",
    "print \"duration: %fs\" % (tree_time)"
   ]
  },
  {
   "cell_type": "code",
   "execution_count": 27,
   "metadata": {
    "collapsed": false
   },
   "outputs": [
    {
     "name": "stdout",
     "output_type": "stream",
     "text": [
      "0.707574977776\n",
      "{'max_depth': 2}\n",
      "DecisionTreeClassifier(class_weight=None, criterion='gini', max_depth=2,\n",
      "            max_features=None, max_leaf_nodes=None, min_samples_leaf=1,\n",
      "            min_samples_split=2, min_weight_fraction_leaf=0.0,\n",
      "            random_state=1, splitter='best')\n"
     ]
    }
   ],
   "source": [
    "# examine the best model\n",
    "print grid.best_score_\n",
    "print grid.best_params_\n",
    "print grid.best_estimator_"
   ]
  },
  {
   "cell_type": "markdown",
   "metadata": {},
   "source": [
    "### tuning n_estimators for Random Forest"
   ]
  },
  {
   "cell_type": "code",
   "execution_count": 30,
   "metadata": {
    "collapsed": false
   },
   "outputs": [
    {
     "name": "stdout",
     "output_type": "stream",
     "text": [
      "{'n_estimators': [1, 2, 3, 4, 5, 6, 7, 8, 9, 10, 11, 12, 13, 14, 15, 16, 17, 18, 19, 20, 21, 22, 23, 24, 25, 26, 27, 28, 29, 30]}\n",
      "GridSearchCV(cv=10, error_score='raise',\n",
      "       estimator=RandomForestClassifier(bootstrap=True, class_weight=None, criterion='gini',\n",
      "            max_depth=None, max_features='auto', max_leaf_nodes=None,\n",
      "            min_samples_leaf=1, min_samples_split=2,\n",
      "            min_weight_fraction_leaf=0.0, n_estimators=10, n_jobs=1,\n",
      "            oob_score=False, random_state=None, verbose=0,\n",
      "            warm_start=False),\n",
      "       fit_params={}, iid=True, loss_func=None, n_jobs=1,\n",
      "       param_grid={'n_estimators': [1, 2, 3, 4, 5, 6, 7, 8, 9, 10, 11, 12, 13, 14, 15, 16, 17, 18, 19, 20, 21, 22, 23, 24, 25, 26, 27, 28, 29, 30]},\n",
      "       pre_dispatch='2*n_jobs', refit=True, score_func=None,\n",
      "       scoring='accuracy', verbose=0)\n",
      "{'n_estimators': 1}\n",
      "[ 0.61272217  0.63985033  0.64405987  0.61880262  0.64950866  0.62798315\n",
      "  0.63640618  0.56855405  0.5629387   0.57631086]\n",
      "0.613718242643\n",
      "[0.61371824264258645, 0.67519767931502361, 0.63898376456276607, 0.67351331118701163, 0.65564029382866229, 0.67720956346792682, 0.66504468254339588, 0.68436812801197777, 0.66991063491320824, 0.68754971225377814, 0.67440228325457352, 0.68974874842090483, 0.67950217564216531, 0.69147990455247277, 0.68174799981284795, 0.68998268843868427, 0.68413418799419834, 0.68815795630000465, 0.68769007626444578, 0.68937444439245776, 0.68867262433911947, 0.69031020446357549, 0.68811116829644881, 0.69269639264492588, 0.68843868432134003, 0.69410003275160248, 0.68731577223599871, 0.69129275253824918, 0.69283675665559352, 0.69293033266270532]\n",
      "duration: 187.209000s\n"
     ]
    },
    {
     "data": {
      "image/png": "[encoded data removed]",
      "text/plain": [
       "<matplotlib.figure.Figure at 0x201796d8>"
      ]
     },
     "metadata": {},
     "output_type": "display_data"
    }
   ],
   "source": [
    "start = time.time()\n",
    "model = RandomForestClassifier()\n",
    "model.fit(X_train, y_train)\n",
    "# define the parameter values that should be searched\n",
    "test_range = range(1, 31)\n",
    "# create a parameter grid: map the parameter names to the values that should be searched\n",
    "param_grid = dict(n_estimators=test_range)\n",
    "print param_grid\n",
    "# instantiate the grid\n",
    "grid = GridSearchCV(model, param_grid, cv=10, scoring='accuracy')\n",
    "# fit the grid with data\n",
    "print grid.fit(X, y)\n",
    "# view the complete results (list of named tuples)\n",
    "grid.grid_scores_\n",
    "# examine the first tuple\n",
    "print grid.grid_scores_[0].parameters\n",
    "print grid.grid_scores_[0].cv_validation_scores\n",
    "print grid.grid_scores_[0].mean_validation_score\n",
    "# create a list of the mean scores only\n",
    "grid_mean_scores = [result.mean_validation_score for result in grid.grid_scores_]\n",
    "print grid_mean_scores\n",
    "# plot the results\n",
    "plt.plot(test_range, grid_mean_scores)\n",
    "plt.xlabel('Value of n_estimators for Random Forest')\n",
    "plt.ylabel('Cross-Validated Accuracy')\n",
    "end = time.time()\n",
    "forest_time = end - start\n",
    "print \"duration: %fs\" % (forest_time)"
   ]
  },
  {
   "cell_type": "code",
   "execution_count": 31,
   "metadata": {
    "collapsed": false
   },
   "outputs": [
    {
     "name": "stdout",
     "output_type": "stream",
     "text": [
      "0.694100032752\n",
      "{'n_estimators': 26}\n",
      "RandomForestClassifier(bootstrap=True, class_weight=None, criterion='gini',\n",
      "            max_depth=None, max_features='auto', max_leaf_nodes=None,\n",
      "            min_samples_leaf=1, min_samples_split=2,\n",
      "            min_weight_fraction_leaf=0.0, n_estimators=26, n_jobs=1,\n",
      "            oob_score=False, random_state=None, verbose=0,\n",
      "            warm_start=False)\n"
     ]
    }
   ],
   "source": [
    "# examine the best model\n",
    "print grid.best_score_\n",
    "print grid.best_params_\n",
    "print grid.best_estimator_"
   ]
  },
  {
   "cell_type": "markdown",
   "metadata": {},
   "source": [
    "### tuning n_estimators for Boosted Trees"
   ]
  },
  {
   "cell_type": "code",
   "execution_count": 34,
   "metadata": {
    "collapsed": false
   },
   "outputs": [
    {
     "name": "stdout",
     "output_type": "stream",
     "text": [
      "{'n_estimators': [1, 2, 3, 4, 5, 6, 7, 8, 9, 10, 11, 12, 13, 14, 15, 16, 17, 18, 19, 20, 21, 22, 23, 24, 25, 26, 27, 28, 29, 30]}\n",
      "GridSearchCV(cv=10, error_score='raise',\n",
      "       estimator=AdaBoostClassifier(algorithm='SAMME.R', base_estimator=None,\n",
      "          learning_rate=1.0, n_estimators=50, random_state=None),\n",
      "       fit_params={}, iid=True, loss_func=None, n_jobs=1,\n",
      "       param_grid={'n_estimators': [1, 2, 3, 4, 5, 6, 7, 8, 9, 10, 11, 12, 13, 14, 15, 16, 17, 18, 19, 20, 21, 22, 23, 24, 25, 26, 27, 28, 29, 30]},\n",
      "       pre_dispatch='2*n_jobs', refit=True, score_func=None,\n",
      "       scoring='accuracy', verbose=0)\n",
      "{'n_estimators': 1}\n",
      "[ 0.66651076  0.6950421   0.6950421   0.6950421   0.69536734  0.67898924\n",
      "  0.69536734  0.6499766   0.65278428  0.66432584]\n",
      "0.678847143592\n",
      "[0.67884714359238296, 0.70757497777569833, 0.70537594160857153, 0.7015393253169887, 0.70429981752678616, 0.69517615683338796, 0.69980816918542088, 0.69994853319608852, 0.70050998923875918, 0.70088429326720625, 0.70116502128854163, 0.69887240911430304, 0.6974219810040706, 0.69723482898984701, 0.69737519300051465, 0.6981238010574089, 0.69877883310719136, 0.69831095307163238, 0.69601834089739389, 0.69788986103962947, 0.69714125298273522, 0.69756234501473824, 0.69681373695784399, 0.69760913301829408, 0.69779628503251767, 0.69817058906096474, 0.69760913301829408, 0.69807701305385295, 0.69845131708230013, 0.69793664904318531]\n",
      "duration: -152.078000s\n"
     ]
    },
    {
     "data": {
      "image/png": "[encoded data removed]",
      "text/plain": [
       "<matplotlib.figure.Figure at 0x1ba27198>"
      ]
     },
     "metadata": {},
     "output_type": "display_data"
    }
   ],
   "source": [
    "start = time.time()\n",
    "\n",
    "model = AdaBoostClassifier()\n",
    "model.fit(X_train, y_train)\n",
    "# define the parameter values that should be searched\n",
    "test_range = range(1, 31)\n",
    "# create a parameter grid: map the parameter names to the values that should be searched\n",
    "param_grid = dict(n_estimators=test_range)\n",
    "print param_grid\n",
    "# instantiate the grid\n",
    "grid = GridSearchCV(model, param_grid, cv=10, scoring='accuracy')\n",
    "# fit the grid with data\n",
    "print grid.fit(X, y)\n",
    "# view the complete results (list of named tuples)\n",
    "grid.grid_scores_\n",
    "# examine the first tuple\n",
    "print grid.grid_scores_[0].parameters\n",
    "print grid.grid_scores_[0].cv_validation_scores\n",
    "print grid.grid_scores_[0].mean_validation_score\n",
    "# create a list of the mean scores only\n",
    "grid_mean_scores = [result.mean_validation_score for result in grid.grid_scores_]\n",
    "print grid_mean_scores\n",
    "# plot the results\n",
    "plt.plot(test_range, grid_mean_scores)\n",
    "plt.xlabel('Value of n_estimators for Boosted Trees')\n",
    "plt.ylabel('Cross-Validated Accuracy')\n",
    "\n",
    "boost_time = end - start\n",
    "print \"duration: %fs\" % (boost_time)"
   ]
  },
  {
   "cell_type": "code",
   "execution_count": 35,
   "metadata": {
    "collapsed": false
   },
   "outputs": [
    {
     "name": "stdout",
     "output_type": "stream",
     "text": [
      "0.707574977776\n",
      "{'n_estimators': 2}\n",
      "AdaBoostClassifier(algorithm='SAMME.R', base_estimator=None,\n",
      "          learning_rate=1.0, n_estimators=2, random_state=None)\n"
     ]
    }
   ],
   "source": [
    "# examine the best model\n",
    "print grid.best_score_\n",
    "print grid.best_params_\n",
    "print grid.best_estimator_"
   ]
  },
  {
   "cell_type": "markdown",
   "metadata": {},
   "source": [
    "### tuning degree for SVM Polynomial Kernel"
   ]
  },
  {
   "cell_type": "code",
   "execution_count": 140,
   "metadata": {
    "collapsed": false
   },
   "outputs": [
    {
     "name": "stdout",
     "output_type": "stream",
     "text": [
      "[ 0.70679975  0.71241422  0.7099189   0.69931379  0.71179039  0.7099189\n",
      "  0.69993762  0.70555209  0.7099189   0.71098627]\n"
     ]
    }
   ],
   "source": [
    "# 10-fold cross-validation with degree=3 for SVM Poly\n",
    "svcpoly = SVC(kernel='poly', probability=True, degree=3)\n",
    "scores = cross_val_score(svcpoly, X_train, y_train, cv=10, scoring='accuracy')\n",
    "print scores"
   ]
  },
  {
   "cell_type": "code",
   "execution_count": 141,
   "metadata": {
    "collapsed": false
   },
   "outputs": [
    {
     "name": "stdout",
     "output_type": "stream",
     "text": [
      "0.70765508336\n"
     ]
    }
   ],
   "source": [
    "# use average accuracy as an estimate of out-of-sample accuracy\n",
    "print scores.mean()"
   ]
  },
  {
   "cell_type": "code",
   "execution_count": 148,
   "metadata": {
    "collapsed": false
   },
   "outputs": [
    {
     "name": "stdout",
     "output_type": "stream",
     "text": [
      "[0.69187100808954505, 0.70728086305094306, 0.70765508336039717, 0.70721840213768972, 0.70653187726196898, 0.70615769589323396, 0.7059703520941929, 0.70590793012165876, 0.7056584369351161, 0.70416112734939085, 0.70422351038120623, 0.70391155628141067, 0.70341249202688771, 0.70378682915849888, 0.70397386143178797, 0.70328749231894316, 0.70253877911500218, 0.70185225423928144, 0.70154022225804769, 0.70197686454003616]\n"
     ]
    }
   ],
   "source": [
    "# search for an optimal value of degree for SVM Polynomial Kernel\n",
    "para_range = range(1, 21)\n",
    "svcpoly_scores = []\n",
    "for para in para_range:\n",
    "    svcpoly = SVC(kernel='poly', probability=True, degree=para)\n",
    "    scores = cross_val_score(svcpoly, X_train, y_train, cv=10, scoring='accuracy')\n",
    "    svcpoly_scores.append(scores.mean())\n",
    "print svcpoly_scores"
   ]
  },
  {
   "cell_type": "code",
   "execution_count": 149,
   "metadata": {
    "collapsed": false
   },
   "outputs": [
    {
     "data": {
      "text/plain": [
       "<matplotlib.text.Text at 0x7a413400>"
      ]
     },
     "execution_count": 149,
     "metadata": {},
     "output_type": "execute_result"
    },
    {
     "data": {
      "image/png": "[encoded data removed]",
      "text/plain": [
       "<matplotlib.figure.Figure at 0x352af400>"
      ]
     },
     "metadata": {},
     "output_type": "display_data"
    }
   ],
   "source": [
    "# plot the value of degree for SVM Polynomial Kernel (x-axis) versus the cross-validated accuracy (y-axis)\n",
    "plt.plot(para_range, svcpoly_scores)\n",
    "plt.xlabel('Value of degree for SVC Poly')\n",
    "plt.ylabel('Cross-Validated Accuracy')"
   ]
  },
  {
   "cell_type": "markdown",
   "metadata": {},
   "source": [
    "So we choose degree = 3 for the SVM Ploynomial Kernel."
   ]
  },
  {
   "cell_type": "markdown",
   "metadata": {},
   "source": [
    "# ROC and AUC"
   ]
  },
  {
   "cell_type": "code",
   "execution_count": 134,
   "metadata": {
    "collapsed": false
   },
   "outputs": [
    {
     "name": "stdout",
     "output_type": "stream",
     "text": [
      "AUC for Multinomial Naive Bayes: 0.674141\tduration: 0.058000\n",
      "AUC for Gaussian Naive Bayes: \t0.674141\tduration: 0.032000\n",
      "AUC for K-nearest Neighbors: \t0.680614\tduration: 39.389000\n",
      "AUC for Logistic Regression: \t0.699838\tduration: 0.266000\n",
      "AUC for SVM Polynomial Kernel: \t0.679424\tduration: 163.714000\n",
      "AUC for SVM Gaussian Kernel: \t0.681183\tduration: 207.322000\n",
      "AUC for Classification Tree: \t0.624381\tduration: 0.063000\n",
      "AUC for Bagging: \t\t0.679540\tduration: 70.935000\n",
      "AUC for Random Forest: \t\t0.693678\tduration: 0.875000\n",
      "AUC for Boosted Trees: \t\t0.624381\tduration: 0.093000\n"
     ]
    },
    {
     "data": {
      "text/plain": [
       "[<matplotlib.lines.Line2D at 0x77d3c5c0>]"
      ]
     },
     "execution_count": 134,
     "metadata": {},
     "output_type": "execute_result"
    },
    {
     "data": {
      "image/png": "[encoded data removed]",
      "text/plain": [
       "<matplotlib.figure.Figure at 0x77b4d710>"
      ]
     },
     "metadata": {},
     "output_type": "display_data"
    }
   ],
   "source": [
    "# Define a function to calculate AUC and plot ROC\n",
    "def rocauc(method):\n",
    "    global duration\n",
    "    duration = 0\n",
    "    start = time.time()\n",
    "    # tit = 'ROC, feature=\\'text\\''\n",
    "    if method == \"reg\":        \n",
    "        model = LogisticRegression(C=14)\n",
    "        tag = 'Logistic Regression'; col = 'b'\n",
    "    elif method == \"nb\":        \n",
    "        model = MultinomialNB()\n",
    "        tag = 'MNB'; col = 'y'\n",
    "    elif method == \"gnb\":        \n",
    "        model = MultinomialNB()\n",
    "        tag = 'GNB'; col = 'orange'\n",
    "    elif method == \"knn\":        \n",
    "        model = KNeighborsClassifier(n_neighbors=28)\n",
    "        tag = 'KNN'; col = 'g'\n",
    "    elif method == \"tree\":\n",
    "        model = DecisionTreeClassifier(max_depth=2, random_state=1)\n",
    "        tag = 'Classification Tree'; col = 'r'\n",
    "    elif method == \"svm-poly\":\n",
    "        model = SVC(kernel='poly', probability=True, degree=3)\n",
    "        tag = 'SVM-poly'; col = 'grey'\n",
    "    elif method == \"rbf\":\n",
    "        model = SVC(kernel='rbf', probability=True)\n",
    "        tag = 'rbf'; col = 'brown'\n",
    "    elif method == \"bagging\":\n",
    "        model = BaggingClassifier(KNeighborsClassifier(), max_samples=0.5, max_features=0.5)\n",
    "        tag = 'Bagging'; col = '#015812'\n",
    "    elif method == \"forest\":\n",
    "        model = RandomForestClassifier(n_estimators=26)\n",
    "        tag = 'Random Forest'; col = '#e21790'\n",
    "    elif method == \"boosted\":\n",
    "        model = AdaBoostClassifier(n_estimators=2)\n",
    "        tag = 'Boosted Trees'; col = '#7a4234'\n",
    "    # AUC values\n",
    "    model.fit(X_train, y_train)\n",
    "    y_pred_class = model.predict(X_test)\n",
    "    y_pred_prob = model.predict_proba(X_test)[:, 1]\n",
    "    # ROC plot\n",
    "    fpr, tpr, thresholds = metrics.roc_curve(y_test, y_pred_prob)\n",
    "    plt.plot(fpr, tpr, label=tag, color=col)\n",
    "    plt.legend(loc='lower right')\n",
    "    plt.xlim([0.0, 1.0])\n",
    "    plt.ylim([0.0, 1.0])\n",
    "    plt.xlabel('False Positive Rate (1 - Specificity)')\n",
    "    plt.ylabel('True Positive Rate (Sensitivity)')\n",
    "    plt.legend(loc = \"center left\", bbox_to_anchor = (1, 0.5), numpoints = 1)\n",
    "    # time calculate\n",
    "    end = time.time()\n",
    "    duration = end - start\n",
    "    # plt.title('ROC curves')\n",
    "    return metrics.roc_auc_score(y_test, y_pred_prob)\n",
    "\n",
    "print \"AUC for Multinomial Naive Bayes: %f\\tduration: %f\" % (rocauc(\"nb\"), duration)\n",
    "print \"AUC for Gaussian Naive Bayes: \\t%f\\tduration: %f\" % (rocauc(\"gnb\"), duration)\n",
    "print \"AUC for K-nearest Neighbors: \\t%f\\tduration: %f\" % (rocauc(\"knn\"), duration)\n",
    "print \"AUC for Logistic Regression: \\t%f\\tduration: %f\" % (rocauc(\"reg\"), duration)\n",
    "print \"AUC for SVM Polynomial Kernel: \\t%f\\tduration: %f\" % (rocauc(\"svm-poly\"), duration)\n",
    "print \"AUC for SVM Gaussian Kernel: \\t%f\\tduration: %f\" % (rocauc(\"rbf\"), duration)\n",
    "print \"AUC for Classification Tree: \\t%f\\tduration: %f\" % (rocauc(\"tree\"), duration)\n",
    "print \"AUC for Bagging: \\t\\t%f\\tduration: %f\" % (rocauc(\"bagging\"), duration)\n",
    "print \"AUC for Random Forest: \\t\\t%f\\tduration: %f\" % (rocauc(\"forest\"), duration)\n",
    "print \"AUC for Boosted Trees: \\t\\t%f\\tduration: %f\" % (rocauc(\"boosted\"), duration)\n",
    "plt.plot([0,1,1], 'black')"
   ]
  },
  {
   "cell_type": "markdown",
   "metadata": {},
   "source": [
    "# Summary"
   ]
  },
  {
   "cell_type": "code",
   "execution_count": 135,
   "metadata": {
    "collapsed": false
   },
   "outputs": [
    {
     "data": {
      "image/png": "[encoded data removed]",
      "text/plain": [
       "<matplotlib.figure.Figure at 0x7a413c18>"
      ]
     },
     "metadata": {},
     "output_type": "display_data"
    }
   ],
   "source": [
    "D = {u'MNB':0.674141, u'GNB': 0.674141, u'KNN':0.680614, u'LR':0.699838, u'Poly': 0.679424, \\\n",
    "     u'Gaus':0.681183, u'CTree':0.624381, u'Bag': 0.679540, u'RFrt':0.693678, u'BTrees':0.624381}\n",
    "\n",
    "plt.bar(range(len(D)), D.values(), align='center', color='purple')\n",
    "plt.xticks(range(len(D)), D.keys())\n",
    "plt.title(\"AUC values (Data Set #1)\")\n",
    "plt.show()"
   ]
  },
  {
   "cell_type": "code",
   "execution_count": 155,
   "metadata": {
    "collapsed": false
   },
   "outputs": [
    {
     "data": {
      "image/png": "[encoded data removed]",
      "text/plain": [
       "<matplotlib.figure.Figure at 0x783d74e0>"
      ]
     },
     "metadata": {},
     "output_type": "display_data"
    }
   ],
   "source": [
    "D = {u'MNB':0.058, u'GNB': 0.032, u'KNN':39.389, u'LR':0.266, u'Poly': 163.714, \\\n",
    "     u'Gaus':207.322, u'CTree':0.063, u'Bag': 70.935, u'RFrt':0.875, u'BTrees':0.093}\n",
    "\n",
    "plt.bar(range(len(D)), D.values(), align='center', color='y')\n",
    "plt.xticks(range(len(D)), D.keys())\n",
    "plt.title(\"ROC calculation time (Data Set #1)\")\n",
    "plt.show()"
   ]
  },
  {
   "cell_type": "markdown",
   "metadata": {},
   "source": [
    "## Conclusions:\n",
    "1. In terms of AUC, Logistic Regression (0.699838) is the best, followed by Random Forest (0.693678) and SVM Gaussian Kernel (0.681183).\n",
    "2. In terms of operation time, Gaussian Naive Bayes (0.032) is the best, followed by Multinomial Naive Bayes (0.058) and Classification Tree (0.063).\n",
    "3. Generally speaking, Naive Bayes is considered to be the best machine learning method for Data Set #1."
   ]
  },
  {
   "cell_type": "markdown",
   "metadata": {},
   "source": [
    "# Data set #2: Musical Instruments"
   ]
  },
  {
   "cell_type": "code",
   "execution_count": 68,
   "metadata": {
    "collapsed": false
   },
   "outputs": [
    {
     "data": {
      "text/html": [
       "<div>\n",
       "<table border=\"1\" class=\"dataframe\">\n",
       "  <thead>\n",
       "    <tr style=\"text-align: right;\">\n",
       "      <th></th>\n",
       "      <th>asin</th>\n",
       "      <th>helpful</th>\n",
       "      <th>overall</th>\n",
       "      <th>reviewText</th>\n",
       "      <th>reviewTime</th>\n",
       "      <th>reviewerID</th>\n",
       "      <th>reviewerName</th>\n",
       "      <th>summary</th>\n",
       "      <th>unixReviewTime</th>\n",
       "    </tr>\n",
       "  </thead>\n",
       "  <tbody>\n",
       "    <tr>\n",
       "      <th>0</th>\n",
       "      <td>0006428320</td>\n",
       "      <td>[0, 0]</td>\n",
       "      <td>3</td>\n",
       "      <td>The portfolio is fine except for the fact that...</td>\n",
       "      <td>03 11, 2014</td>\n",
       "      <td>A1YS9MDZP93857</td>\n",
       "      <td>John Taylor</td>\n",
       "      <td>Parts missing</td>\n",
       "      <td>1394496000</td>\n",
       "    </tr>\n",
       "    <tr>\n",
       "      <th>1</th>\n",
       "      <td>0014072149</td>\n",
       "      <td>[0, 0]</td>\n",
       "      <td>5</td>\n",
       "      <td>If you are a serious violin student on a budge...</td>\n",
       "      <td>06 6, 2013</td>\n",
       "      <td>A3TS466QBAWB9D</td>\n",
       "      <td>Silver Pencil</td>\n",
       "      <td>Perform it with a friend, today!</td>\n",
       "      <td>1370476800</td>\n",
       "    </tr>\n",
       "    <tr>\n",
       "      <th>2</th>\n",
       "      <td>0041291905</td>\n",
       "      <td>[0, 0]</td>\n",
       "      <td>5</td>\n",
       "      <td>This is and excellent edition and perfectly tr...</td>\n",
       "      <td>10 14, 2013</td>\n",
       "      <td>A3BUDYITWUSIS7</td>\n",
       "      <td>joyce gabriel cornett</td>\n",
       "      <td>Vivalldi's Four Seasons</td>\n",
       "      <td>1381708800</td>\n",
       "    </tr>\n",
       "  </tbody>\n",
       "</table>\n",
       "</div>"
      ],
      "text/plain": [
       "         asin helpful  overall  \\\n",
       "0  0006428320  [0, 0]        3   \n",
       "1  0014072149  [0, 0]        5   \n",
       "2  0041291905  [0, 0]        5   \n",
       "\n",
       "                                          reviewText   reviewTime  \\\n",
       "0  The portfolio is fine except for the fact that...  03 11, 2014   \n",
       "1  If you are a serious violin student on a budge...   06 6, 2013   \n",
       "2  This is and excellent edition and perfectly tr...  10 14, 2013   \n",
       "\n",
       "       reviewerID           reviewerName                           summary  \\\n",
       "0  A1YS9MDZP93857            John Taylor                     Parts missing   \n",
       "1  A3TS466QBAWB9D          Silver Pencil  Perform it with a friend, today!   \n",
       "2  A3BUDYITWUSIS7  joyce gabriel cornett           Vivalldi's Four Seasons   \n",
       "\n",
       "   unixReviewTime  \n",
       "0      1394496000  \n",
       "1      1370476800  \n",
       "2      1381708800  "
      ]
     },
     "execution_count": 68,
     "metadata": {},
     "output_type": "execute_result"
    }
   ],
   "source": [
    "# read json into a DataFrame locally\n",
    "# reference: https://www.reddit.com/r/MachineLearning/comments/33eglq/python_help_jsoncsv_pandas/\n",
    "\n",
    "with open('reviews_Musical_Instruments.json', 'rb') as f:\n",
    "    data = f.readlines()\n",
    "data = map(lambda x: x.rstrip(), data)\n",
    "data_json_str = \"[\" + ','.join(data) + \"]\"\n",
    "data_df = pd.read_json(data_json_str)\n",
    "data_df.head(3)"
   ]
  },
  {
   "cell_type": "code",
   "execution_count": 69,
   "metadata": {
    "collapsed": false
   },
   "outputs": [
    {
     "data": {
      "text/plain": [
       "(189653, 9)"
      ]
     },
     "execution_count": 69,
     "metadata": {},
     "output_type": "execute_result"
    }
   ],
   "source": [
    "data_df.shape"
   ]
  },
  {
   "cell_type": "code",
   "execution_count": 70,
   "metadata": {
    "collapsed": false
   },
   "outputs": [
    {
     "data": {
      "text/plain": [
       "(131960, 9)"
      ]
     },
     "execution_count": 70,
     "metadata": {},
     "output_type": "execute_result"
    }
   ],
   "source": [
    "# select response variables is the reviewer’s rating in \"overall\": 5.0 versus 1.0\n",
    "review_best_worst = data_df[(data_df.overall==5) | (data_df.overall==1)]\n",
    "review_best_worst.shape"
   ]
  },
  {
   "cell_type": "code",
   "execution_count": 85,
   "metadata": {
    "collapsed": true
   },
   "outputs": [],
   "source": [
    "record_best_worst = review_best_worst[:10000]\n",
    "\n",
    "X = record_best_worst.reviewText\n",
    "y = record_best_worst.overall\n",
    "from sklearn.cross_validation import train_test_split\n",
    "X_train, X_test, y_train, y_test = train_test_split(X, y, random_state=1234567)\n",
    "\n",
    "vect = CountVectorizer(max_features = 1000)\n",
    "train_dtm = vect.fit_transform(X_train)\n",
    "test_dtm = vect.transform(X_test)"
   ]
  },
  {
   "cell_type": "markdown",
   "metadata": {},
   "source": [
    "## Model hyper-parameters optimization"
   ]
  },
  {
   "cell_type": "markdown",
   "metadata": {},
   "source": [
    "### tuning n_neighbor for KNN"
   ]
  },
  {
   "cell_type": "code",
   "execution_count": 88,
   "metadata": {
    "collapsed": false
   },
   "outputs": [
    {
     "name": "stdout",
     "output_type": "stream",
     "text": [
      "{'n_neighbors': [1, 2, 3, 4, 5, 6, 7, 8, 9, 10, 11, 12, 13, 14, 15, 16, 17, 18, 19, 20, 21, 22, 23, 24, 25, 26, 27, 28, 29, 30]}\n",
      "GridSearchCV(cv=10, error_score='raise',\n",
      "       estimator=KNeighborsClassifier(algorithm='auto', leaf_size=30, metric='minkowski',\n",
      "           metric_params=None, n_neighbors=5, p=2, weights='uniform'),\n",
      "       fit_params={}, iid=True, loss_func=None, n_jobs=1,\n",
      "       param_grid={'n_neighbors': [1, 2, 3, 4, 5, 6, 7, 8, 9, 10, 11, 12, 13, 14, 15, 16, 17, 18, 19, 20, 21, 22, 23, 24, 25, 26, 27, 28, 29, 30]},\n",
      "       pre_dispatch='2*n_jobs', refit=True, score_func=None,\n",
      "       scoring='accuracy', verbose=0)\n",
      "{'n_neighbors': 1}\n",
      "[ 0.91078562  0.90945406  0.91211718  0.91877497  0.91211718  0.89853138\n",
      "  0.90921228  0.92389853  0.9012016   0.91855808]\n",
      "0.911466666667\n",
      "[0.91146666666666665, 0.88386666666666669, 0.93079999999999996, 0.92720000000000002, 0.93400000000000005, 0.93293333333333328, 0.93426666666666669, 0.93386666666666662, 0.93426666666666669, 0.93466666666666665, 0.93413333333333337, 0.93426666666666669, 0.93400000000000005, 0.93413333333333337, 0.93413333333333337, 0.93426666666666669, 0.93426666666666669, 0.93426666666666669, 0.93413333333333337, 0.93400000000000005, 0.93400000000000005, 0.93413333333333337, 0.93400000000000005, 0.93400000000000005, 0.93400000000000005, 0.93400000000000005, 0.93400000000000005, 0.93400000000000005, 0.93400000000000005, 0.93400000000000005]\n",
      "duration: 169.422000s\n"
     ]
    },
    {
     "data": {
      "image/png": "[encoded data removed]",
      "text/plain": [
       "<matplotlib.figure.Figure at 0x72439470>"
      ]
     },
     "metadata": {},
     "output_type": "display_data"
    }
   ],
   "source": [
    "start = time.time()\n",
    "knn = KNeighborsClassifier()\n",
    "# define the parameter values that should be searched\n",
    "k_range = range(1, 31)\n",
    "# create a parameter grid: map the parameter names to the values that should be searched\n",
    "param_grid = dict(n_neighbors=k_range)\n",
    "print param_grid\n",
    "# instantiate the grid\n",
    "grid = GridSearchCV(knn, param_grid, cv=10, scoring='accuracy')\n",
    "# fit the grid with data\n",
    "print grid.fit(train_dtm, y_train)\n",
    "# view the complete results (list of named tuples)\n",
    "grid.grid_scores_\n",
    "# examine the first tuple\n",
    "print grid.grid_scores_[0].parameters\n",
    "print grid.grid_scores_[0].cv_validation_scores\n",
    "print grid.grid_scores_[0].mean_validation_score\n",
    "# create a list of the mean scores only\n",
    "grid_mean_scores = [result.mean_validation_score for result in grid.grid_scores_]\n",
    "print grid_mean_scores\n",
    "# plot the results\n",
    "plt.plot(k_range, grid_mean_scores)\n",
    "plt.xlabel('Value of K for KNN')\n",
    "plt.ylabel('Cross-Validated Accuracy')\n",
    "end = time.time()\n",
    "knn_time = end - start\n",
    "print \"duration: %fs\" % (knn_time)"
   ]
  },
  {
   "cell_type": "code",
   "execution_count": 89,
   "metadata": {
    "collapsed": false
   },
   "outputs": [
    {
     "name": "stdout",
     "output_type": "stream",
     "text": [
      "0.934666666667\n",
      "{'n_neighbors': 10}\n",
      "KNeighborsClassifier(algorithm='auto', leaf_size=30, metric='minkowski',\n",
      "           metric_params=None, n_neighbors=10, p=2, weights='uniform')\n"
     ]
    }
   ],
   "source": [
    "# examine the best model\n",
    "print grid.best_score_\n",
    "print grid.best_params_\n",
    "print grid.best_estimator_"
   ]
  },
  {
   "cell_type": "markdown",
   "metadata": {},
   "source": [
    "### tuning C for Logistic Regression"
   ]
  },
  {
   "cell_type": "code",
   "execution_count": 121,
   "metadata": {
    "collapsed": false,
    "scrolled": false
   },
   "outputs": [
    {
     "name": "stdout",
     "output_type": "stream",
     "text": [
      "{'C': [1, 2, 3, 4, 5, 6, 7, 8, 9, 10, 11, 12, 13, 14, 15, 16, 17, 18, 19, 20, 21, 22, 23, 24, 25, 26, 27, 28, 29, 30]}\n",
      "GridSearchCV(cv=10, error_score='raise',\n",
      "       estimator=LogisticRegression(C=1.0, class_weight=None, dual=False, fit_intercept=True,\n",
      "          intercept_scaling=1, max_iter=100, multi_class='ovr',\n",
      "          penalty='l2', random_state=None, solver='liblinear', tol=0.0001,\n",
      "          verbose=0),\n",
      "       fit_params={}, iid=True, loss_func=None, n_jobs=1,\n",
      "       param_grid={'C': [1, 2, 3, 4, 5, 6, 7, 8, 9, 10, 11, 12, 13, 14, 15, 16, 17, 18, 19, 20, 21, 22, 23, 24, 25, 26, 27, 28, 29, 30]},\n",
      "       pre_dispatch='2*n_jobs', refit=True, score_func=None,\n",
      "       scoring='accuracy', verbose=0)\n",
      "{'C': 1}\n",
      "[ 0.93874834  0.93608522  0.94274301  0.94274301  0.93608522  0.94526035\n",
      "  0.94659546  0.94793057  0.94392523  0.94926569]\n",
      "0.942933333333\n",
      "[0.94293333333333329, 0.93986666666666663, 0.93773333333333331, 0.93559999999999999, 0.93493333333333328, 0.93386666666666662, 0.93279999999999996, 0.9317333333333333, 0.93053333333333332, 0.92933333333333334, 0.92920000000000003, 0.9284, 0.92786666666666662, 0.92720000000000002, 0.92679999999999996, 0.9264, 0.92626666666666668, 0.92559999999999998, 0.92520000000000002, 0.92479999999999996, 0.92466666666666664, 0.92400000000000004, 0.92346666666666666, 0.9230666666666667, 0.92320000000000002, 0.9230666666666667, 0.9230666666666667, 0.92279999999999995, 0.92253333333333332, 0.92253333333333332]\n",
      "duration: 306.570000s\n"
     ]
    },
    {
     "data": {
      "image/png": "[encoded data removed]",
      "text/plain": [
       "<matplotlib.figure.Figure at 0x714af160>"
      ]
     },
     "metadata": {},
     "output_type": "display_data"
    }
   ],
   "source": [
    "start = time.time()\n",
    "\n",
    "model = LogisticRegression()\n",
    "# model.fit(X_train, y_train)\n",
    "# define the parameter values that should be searched\n",
    "test_range = range(1, 31)\n",
    "# create a parameter grid: map the parameter names to the values that should be searched\n",
    "param_grid = dict(C=test_range)\n",
    "print param_grid\n",
    "# instantiate the grid\n",
    "grid = GridSearchCV(model, param_grid, cv=10, scoring='accuracy')\n",
    "# fit the grid with data\n",
    "print grid.fit(train_dtm, y_train)\n",
    "# view the complete results (list of named tuples)\n",
    "grid.grid_scores_\n",
    "# examine the first tuple\n",
    "print grid.grid_scores_[0].parameters\n",
    "print grid.grid_scores_[0].cv_validation_scores\n",
    "print grid.grid_scores_[0].mean_validation_score\n",
    "# create a list of the mean scores only\n",
    "grid_mean_scores = [result.mean_validation_score for result in grid.grid_scores_]\n",
    "print grid_mean_scores\n",
    "# plot the results\n",
    "plt.plot(test_range, grid_mean_scores)\n",
    "plt.xlabel('Value of max_depth for random forest')\n",
    "plt.ylabel('Cross-Validated Accuracy')\n",
    "\n",
    "end = time.time()\n",
    "logi_time = end - start\n",
    "print \"duration: %fs\" % (logi_time)"
   ]
  },
  {
   "cell_type": "code",
   "execution_count": 91,
   "metadata": {
    "collapsed": false
   },
   "outputs": [
    {
     "name": "stdout",
     "output_type": "stream",
     "text": [
      "0.942933333333\n",
      "{'C': 1}\n",
      "LogisticRegression(C=1, class_weight=None, dual=False, fit_intercept=True,\n",
      "          intercept_scaling=1, max_iter=100, multi_class='ovr',\n",
      "          penalty='l2', random_state=None, solver='liblinear', tol=0.0001,\n",
      "          verbose=0)\n"
     ]
    }
   ],
   "source": [
    "# examine the best model\n",
    "print grid.best_score_\n",
    "print grid.best_params_\n",
    "print grid.best_estimator_"
   ]
  },
  {
   "cell_type": "markdown",
   "metadata": {},
   "source": [
    "### tuning max_depth for Classification Tree"
   ]
  },
  {
   "cell_type": "code",
   "execution_count": 93,
   "metadata": {
    "collapsed": false
   },
   "outputs": [
    {
     "name": "stdout",
     "output_type": "stream",
     "text": [
      "{'max_depth': [1, 2, 3, 4, 5, 6, 7, 8, 9, 10, 11, 12, 13, 14, 15, 16, 17, 18, 19, 20]}\n",
      "GridSearchCV(cv=10, error_score='raise',\n",
      "       estimator=DecisionTreeClassifier(class_weight=None, criterion='gini', max_depth=None,\n",
      "            max_features=None, max_leaf_nodes=None, min_samples_leaf=1,\n",
      "            min_samples_split=2, min_weight_fraction_leaf=0.0,\n",
      "            random_state=None, splitter='best'),\n",
      "       fit_params={}, iid=True, loss_func=None, n_jobs=1,\n",
      "       param_grid={'max_depth': [1, 2, 3, 4, 5, 6, 7, 8, 9, 10, 11, 12, 13, 14, 15, 16, 17, 18, 19, 20]},\n",
      "       pre_dispatch='2*n_jobs', refit=True, score_func=None,\n",
      "       scoring='accuracy', verbose=0)\n",
      "{'max_depth': 1}\n",
      "[ 0.9334221   0.9334221   0.9334221   0.9334221   0.9334221   0.93457944\n",
      "  0.93457944  0.93457944  0.93457944  0.93457944]\n",
      "0.934\n",
      "[0.93400000000000005, 0.93400000000000005, 0.93333333333333335, 0.93120000000000003, 0.93146666666666667, 0.92986666666666662, 0.93000000000000005, 0.92959999999999998, 0.92920000000000003, 0.92706666666666671, 0.92679999999999996, 0.92626666666666668, 0.92400000000000004, 0.9210666666666667, 0.92253333333333332, 0.91933333333333334, 0.91933333333333334, 0.91986666666666672, 0.91679999999999995, 0.91573333333333329]\n",
      "duration: 99.266000s\n"
     ]
    },
    {
     "data": {
      "image/png": "[encoded data removed]",
      "text/plain": [
       "<matplotlib.figure.Figure at 0x67b5afd0>"
      ]
     },
     "metadata": {},
     "output_type": "display_data"
    }
   ],
   "source": [
    "start = time.time()\n",
    "\n",
    "model = DecisionTreeClassifier()\n",
    "# define the parameter values that should be searched\n",
    "test_range = range(1, 21)\n",
    "# create a parameter grid: map the parameter names to the values that should be searched\n",
    "param_grid = dict(max_depth=test_range)\n",
    "print param_grid\n",
    "# instantiate the grid\n",
    "grid = GridSearchCV(model, param_grid, cv=10, scoring='accuracy')\n",
    "# fit the grid with data\n",
    "print grid.fit(train_dtm, y_train)\n",
    "# view the complete results (list of named tuples)\n",
    "grid.grid_scores_\n",
    "# examine the first tuple\n",
    "print grid.grid_scores_[0].parameters\n",
    "print grid.grid_scores_[0].cv_validation_scores\n",
    "print grid.grid_scores_[0].mean_validation_score\n",
    "# create a list of the mean scores only\n",
    "grid_mean_scores = [result.mean_validation_score for result in grid.grid_scores_]\n",
    "print grid_mean_scores\n",
    "# plot the results\n",
    "plt.plot(test_range, grid_mean_scores)\n",
    "plt.xlabel('Value of max_depth for Decision Tree')\n",
    "plt.ylabel('Cross-Validated Accuracy')\n",
    "\n",
    "end = time.time()\n",
    "tree_time = end - start\n",
    "print \"duration: %fs\" % (tree_time)"
   ]
  },
  {
   "cell_type": "code",
   "execution_count": 94,
   "metadata": {
    "collapsed": false
   },
   "outputs": [
    {
     "name": "stdout",
     "output_type": "stream",
     "text": [
      "0.934\n",
      "{'max_depth': 1}\n",
      "DecisionTreeClassifier(class_weight=None, criterion='gini', max_depth=1,\n",
      "            max_features=None, max_leaf_nodes=None, min_samples_leaf=1,\n",
      "            min_samples_split=2, min_weight_fraction_leaf=0.0,\n",
      "            random_state=None, splitter='best')\n"
     ]
    }
   ],
   "source": [
    "# examine the best model\n",
    "print grid.best_score_\n",
    "print grid.best_params_\n",
    "print grid.best_estimator_"
   ]
  },
  {
   "cell_type": "markdown",
   "metadata": {},
   "source": [
    "### tuning n_estimators for Random Forest"
   ]
  },
  {
   "cell_type": "code",
   "execution_count": 95,
   "metadata": {
    "collapsed": false
   },
   "outputs": [
    {
     "name": "stdout",
     "output_type": "stream",
     "text": [
      "{'n_estimators': [1, 2, 3, 4, 5, 6, 7, 8, 9, 10, 11, 12, 13, 14, 15, 16, 17, 18, 19, 20, 21, 22, 23, 24, 25, 26, 27, 28, 29, 30]}\n",
      "GridSearchCV(cv=10, error_score='raise',\n",
      "       estimator=RandomForestClassifier(bootstrap=True, class_weight=None, criterion='gini',\n",
      "            max_depth=None, max_features='auto', max_leaf_nodes=None,\n",
      "            min_samples_leaf=1, min_samples_split=2,\n",
      "            min_weight_fraction_leaf=0.0, n_estimators=10, n_jobs=1,\n",
      "            oob_score=False, random_state=None, verbose=0,\n",
      "            warm_start=False),\n",
      "       fit_params={}, iid=True, loss_func=None, n_jobs=1,\n",
      "       param_grid={'n_estimators': [1, 2, 3, 4, 5, 6, 7, 8, 9, 10, 11, 12, 13, 14, 15, 16, 17, 18, 19, 20, 21, 22, 23, 24, 25, 26, 27, 28, 29, 30]},\n",
      "       pre_dispatch='2*n_jobs', refit=True, score_func=None,\n",
      "       scoring='accuracy', verbose=0)\n",
      "{'n_estimators': 1}\n",
      "[ 0.88015979  0.87616511  0.90279627  0.8828229   0.9081225   0.89319092\n",
      "  0.88651535  0.88251001  0.88785047  0.90253672]\n",
      "0.890266666667\n",
      "[0.89026666666666665, 0.85106666666666664, 0.92453333333333332, 0.91493333333333338, 0.93279999999999996, 0.93133333333333335, 0.93413333333333337, 0.93640000000000001, 0.93426666666666669, 0.93720000000000003, 0.93426666666666669, 0.93493333333333328, 0.93533333333333335, 0.93706666666666671, 0.93573333333333331, 0.93520000000000003, 0.93613333333333337, 0.93559999999999999, 0.93533333333333335, 0.93613333333333337, 0.93453333333333333, 0.93613333333333337, 0.93613333333333337, 0.93600000000000005, 0.93559999999999999, 0.93586666666666662, 0.93559999999999999, 0.93546666666666667, 0.93546666666666667, 0.93546666666666667]\n",
      "duration: 252.038000s\n"
     ]
    },
    {
     "data": {
      "image/png": "[encoded data removed]",
      "text/plain": [
       "<matplotlib.figure.Figure at 0x67b5af60>"
      ]
     },
     "metadata": {},
     "output_type": "display_data"
    }
   ],
   "source": [
    "start = time.time()\n",
    "model = RandomForestClassifier()\n",
    "# define the parameter values that should be searched\n",
    "test_range = range(1, 31)\n",
    "# create a parameter grid: map the parameter names to the values that should be searched\n",
    "param_grid = dict(n_estimators=test_range)\n",
    "print param_grid\n",
    "# instantiate the grid\n",
    "grid = GridSearchCV(model, param_grid, cv=10, scoring='accuracy')\n",
    "# fit the grid with data\n",
    "print grid.fit(train_dtm, y_train)\n",
    "# view the complete results (list of named tuples)\n",
    "grid.grid_scores_\n",
    "# examine the first tuple\n",
    "print grid.grid_scores_[0].parameters\n",
    "print grid.grid_scores_[0].cv_validation_scores\n",
    "print grid.grid_scores_[0].mean_validation_score\n",
    "# create a list of the mean scores only\n",
    "grid_mean_scores = [result.mean_validation_score for result in grid.grid_scores_]\n",
    "print grid_mean_scores\n",
    "# plot the results\n",
    "plt.plot(test_range, grid_mean_scores)\n",
    "plt.xlabel('Value of max_depth for random forest')\n",
    "plt.ylabel('Cross-Validated Accuracy')\n",
    "end = time.time()\n",
    "forest_time = end - start\n",
    "print \"duration: %fs\" % (forest_time)"
   ]
  },
  {
   "cell_type": "code",
   "execution_count": 96,
   "metadata": {
    "collapsed": false
   },
   "outputs": [
    {
     "name": "stdout",
     "output_type": "stream",
     "text": [
      "0.9372\n",
      "{'n_estimators': 10}\n",
      "RandomForestClassifier(bootstrap=True, class_weight=None, criterion='gini',\n",
      "            max_depth=None, max_features='auto', max_leaf_nodes=None,\n",
      "            min_samples_leaf=1, min_samples_split=2,\n",
      "            min_weight_fraction_leaf=0.0, n_estimators=10, n_jobs=1,\n",
      "            oob_score=False, random_state=None, verbose=0,\n",
      "            warm_start=False)\n"
     ]
    }
   ],
   "source": [
    "# examine the best model\n",
    "print grid.best_score_\n",
    "print grid.best_params_\n",
    "print grid.best_estimator_"
   ]
  },
  {
   "cell_type": "markdown",
   "metadata": {},
   "source": [
    "### tuning n_estimators for Boosted Trees"
   ]
  },
  {
   "cell_type": "code",
   "execution_count": 111,
   "metadata": {
    "collapsed": false
   },
   "outputs": [
    {
     "name": "stdout",
     "output_type": "stream",
     "text": [
      "{'n_estimators': [1, 2, 3, 4, 5, 6, 7, 8, 9, 10, 11, 12, 13, 14, 15, 16, 17, 18, 19, 20, 21, 22, 23, 24, 25, 26, 27, 28, 29, 30]}\n",
      "GridSearchCV(cv=10, error_score='raise',\n",
      "       estimator=AdaBoostClassifier(algorithm='SAMME.R', base_estimator=None,\n",
      "          learning_rate=1.0, n_estimators=50, random_state=None),\n",
      "       fit_params={}, iid=True, loss_func=None, n_jobs=1,\n",
      "       param_grid={'n_estimators': [1, 2, 3, 4, 5, 6, 7, 8, 9, 10, 11, 12, 13, 14, 15, 16, 17, 18, 19, 20, 21, 22, 23, 24, 25, 26, 27, 28, 29, 30]},\n",
      "       pre_dispatch='2*n_jobs', refit=True, score_func=None,\n",
      "       scoring='accuracy', verbose=0)\n",
      "{'n_estimators': 1}\n",
      "[ 0.9334221   0.9334221   0.9334221   0.9334221   0.9334221   0.93457944\n",
      "  0.93457944  0.93457944  0.93457944  0.93457944]\n",
      "0.934\n",
      "[0.93400000000000005, 0.93400000000000005, 0.93413333333333337, 0.93493333333333328, 0.93520000000000003, 0.93533333333333335, 0.93400000000000005, 0.93506666666666671, 0.93466666666666665, 0.93559999999999999, 0.93520000000000003, 0.93600000000000005, 0.93533333333333335, 0.93600000000000005, 0.93613333333333337, 0.93679999999999997, 0.93733333333333335, 0.93666666666666665, 0.93693333333333328, 0.93746666666666667, 0.93826666666666669, 0.93759999999999999, 0.93879999999999997, 0.93866666666666665, 0.93840000000000001, 0.93866666666666665, 0.93893333333333329, 0.93920000000000003, 0.93986666666666663, 0.93906666666666672]\n",
      "duration: -2842.305000s\n"
     ]
    },
    {
     "data": {
      "image/png": "[encoded data removed]",
      "text/plain": [
       "<matplotlib.figure.Figure at 0x79110400>"
      ]
     },
     "metadata": {},
     "output_type": "display_data"
    }
   ],
   "source": [
    "start = time.time()\n",
    "\n",
    "model = AdaBoostClassifier()\n",
    "# define the parameter values that should be searched\n",
    "test_range = range(1,31)\n",
    "# create a parameter grid: map the parameter names to the values that should be searched\n",
    "param_grid = dict(n_estimators=test_range)\n",
    "print param_grid\n",
    "# instantiate the grid\n",
    "grid = GridSearchCV(model, param_grid, cv=10, scoring='accuracy')\n",
    "# fit the grid with data\n",
    "print grid.fit(train_dtm, y_train)\n",
    "# view the complete results (list of named tuples)\n",
    "grid.grid_scores_\n",
    "# examine the first tuple\n",
    "print grid.grid_scores_[0].parameters\n",
    "print grid.grid_scores_[0].cv_validation_scores\n",
    "print grid.grid_scores_[0].mean_validation_score\n",
    "# create a list of the mean scores only\n",
    "grid_mean_scores = [result.mean_validation_score for result in grid.grid_scores_]\n",
    "print grid_mean_scores\n",
    "# plot the results\n",
    "plt.plot(test_range, grid_mean_scores)\n",
    "plt.xlabel('Value of max_depth for random forest')\n",
    "plt.ylabel('Cross-Validated Accuracy')\n",
    "\n",
    "boost_time = end - start\n",
    "print \"duration: %fs\" % (boost_time)"
   ]
  },
  {
   "cell_type": "code",
   "execution_count": 118,
   "metadata": {
    "collapsed": false
   },
   "outputs": [
    {
     "name": "stdout",
     "output_type": "stream",
     "text": [
      "0.939866666667\n",
      "{'n_estimators': 29}\n",
      "AdaBoostClassifier(algorithm='SAMME.R', base_estimator=None,\n",
      "          learning_rate=1.0, n_estimators=29, random_state=None)\n"
     ]
    }
   ],
   "source": [
    "# examine the best model\n",
    "print grid.best_score_\n",
    "print grid.best_params_\n",
    "print grid.best_estimator_"
   ]
  },
  {
   "cell_type": "markdown",
   "metadata": {},
   "source": [
    "# ROC and AUC"
   ]
  },
  {
   "cell_type": "code",
   "execution_count": 119,
   "metadata": {
    "collapsed": false
   },
   "outputs": [
    {
     "name": "stdout",
     "output_type": "stream",
     "text": [
      "AUC for Multinomial Naive Bayes: 0.871943\tduration: 0.037000\n",
      "AUC for Gaussian Naive Bayes: \t0.871943\tduration: 0.015000\n",
      "AUC for K-nearest Neighbors: \t0.683279\tduration: 3.725000\n",
      "AUC for Logistic Regression: \t0.889228\tduration: 0.431000\n",
      "AUC for SVM Polynomial Kernel: \t0.806139\tduration: 37.796000\n",
      "AUC for SVM Gaussian Kernel: \t0.901784\tduration: 37.539000\n",
      "AUC for Classification Tree: \t0.545956\tduration: 0.068000\n",
      "AUC for Bagging: \t\t0.714559\tduration: 14.685000\n",
      "AUC for Random Forest: \t\t0.749716\tduration: 0.671000\n",
      "AUC for Boosted Trees: \t\t0.843572\tduration: 1.715000\n"
     ]
    },
    {
     "data": {
      "text/plain": [
       "[<matplotlib.lines.Line2D at 0x726e1080>]"
      ]
     },
     "execution_count": 119,
     "metadata": {},
     "output_type": "execute_result"
    },
    {
     "data": {
      "image/png": "[encoded data removed]",
      "text/plain": [
       "<matplotlib.figure.Figure at 0x694a30b8>"
      ]
     },
     "metadata": {},
     "output_type": "display_data"
    }
   ],
   "source": [
    "# Define a function to calculate AUC and plot ROC\n",
    "def rocauc(method):\n",
    "    Xtrain = train_dtm; Xtest = test_dtm; tit = 'ROC curves'\n",
    "    global duration\n",
    "    duration = 0\n",
    "    start = time.time()\n",
    "    # tit = 'ROC, feature=\\'text\\''\n",
    "    if method == \"reg\":        \n",
    "        model = LogisticRegression(C=1)\n",
    "        tag = 'Logistic Regression'; col = 'b'\n",
    "    elif method == \"nb\":        \n",
    "        model = MultinomialNB()\n",
    "        tag = 'NB'; col = 'y'\n",
    "    elif method == \"gnb\":        \n",
    "        model = MultinomialNB()\n",
    "        tag = 'GNB'; col = 'orange'\n",
    "    elif method == \"knn\":        \n",
    "        model = KNeighborsClassifier(n_neighbors=10)\n",
    "        tag = 'KNN (K=5)'; col = 'g'\n",
    "    elif method == \"tree\":\n",
    "        model = DecisionTreeClassifier(max_depth=1, random_state=1)\n",
    "        tag = 'Classification Tree'; col = 'r'\n",
    "    elif method == \"svm-poly\":\n",
    "        model = SVC(kernel='poly', probability=True, degree=3)\n",
    "        tag = 'SVM-poly'; col = 'grey'\n",
    "    elif method == \"rbf\":\n",
    "        model = SVC(kernel='rbf', probability=True)\n",
    "        tag = 'rbf'; col = 'brown'\n",
    "    elif method == \"bagging\":\n",
    "        model = BaggingClassifier(KNeighborsClassifier(), max_samples=0.5, max_features=0.5)\n",
    "        tag = 'Bagging'; col = '#015812'\n",
    "    elif method == \"forest\":\n",
    "        model = RandomForestClassifier(n_estimators=10)\n",
    "        tag = 'Random Forest'; col = '#e21790'\n",
    "    elif method == \"boosted\":\n",
    "        model = AdaBoostClassifier(n_estimators=29)\n",
    "        tag = 'Boosted Trees'; col = '#7a4234'\n",
    "    # AUC values\n",
    "    model.fit(Xtrain, y_train)\n",
    "    y_pred_class = model.predict(Xtest)\n",
    "    y_pred_prob = model.predict_proba(Xtest)[:, 1]\n",
    "    y_test_binary = np.where(y_test==5, 1, 0)\n",
    "    # ROC plot\n",
    "    fpr, tpr, thresholds = metrics.roc_curve(y_test_binary, y_pred_prob)\n",
    "    plt.plot(fpr, tpr, label=tag, color=col)\n",
    "    plt.legend(loc='lower right')\n",
    "    plt.xlim([0.0, 1.0])\n",
    "    plt.ylim([0.0, 1.0])\n",
    "    plt.xlabel('False Positive Rate (1 - Specificity)')\n",
    "    plt.ylabel('True Positive Rate (Sensitivity)')\n",
    "    plt.legend(loc = \"center left\", bbox_to_anchor = (1, 0.5), numpoints = 1)\n",
    "    plt.title(tit)\n",
    "    # time calculate\n",
    "    end = time.time()\n",
    "    duration = end - start\n",
    "    return metrics.roc_auc_score(y_test_binary, y_pred_prob)\n",
    "\n",
    "print \"AUC for Multinomial Naive Bayes: %f\\tduration: %f\" % (rocauc(\"nb\"), duration)\n",
    "print \"AUC for Gaussian Naive Bayes: \\t%f\\tduration: %f\" % (rocauc(\"gnb\"), duration)\n",
    "print \"AUC for K-nearest Neighbors: \\t%f\\tduration: %f\" % (rocauc(\"knn\"), duration)\n",
    "print \"AUC for Logistic Regression: \\t%f\\tduration: %f\" % (rocauc(\"reg\"), duration)\n",
    "print \"AUC for SVM Polynomial Kernel: \\t%f\\tduration: %f\" % (rocauc(\"svm-poly\"), duration)\n",
    "print \"AUC for SVM Gaussian Kernel: \\t%f\\tduration: %f\" % (rocauc(\"rbf\"), duration)\n",
    "print \"AUC for Classification Tree: \\t%f\\tduration: %f\" % (rocauc(\"tree\"), duration)\n",
    "print \"AUC for Bagging: \\t\\t%f\\tduration: %f\" % (rocauc(\"bagging\"), duration)\n",
    "print \"AUC for Random Forest: \\t\\t%f\\tduration: %f\" % (rocauc(\"forest\"), duration)\n",
    "print \"AUC for Boosted Trees: \\t\\t%f\\tduration: %f\" % (rocauc(\"boosted\"), duration)\n",
    "plt.plot([0,1,1], 'black')"
   ]
  },
  {
   "cell_type": "markdown",
   "metadata": {},
   "source": [
    "# Summary"
   ]
  },
  {
   "cell_type": "code",
   "execution_count": 122,
   "metadata": {
    "collapsed": false
   },
   "outputs": [
    {
     "data": {
      "image/png": "[encoded data removed]",
      "text/plain": [
       "<matplotlib.figure.Figure at 0x79f38b70>"
      ]
     },
     "metadata": {},
     "output_type": "display_data"
    }
   ],
   "source": [
    "D = {u'MNB':0.871943, u'GNB': 0.871943, u'KNN':0.683279, u'LR':0.889228, u'Poly': 0.806139, \\\n",
    "     u'Gaus':0.901784, u'CTree':0.545956, u'Bag': 0.714559, u'RFrt':0.749716, u'BTrees':0.843572}\n",
    "\n",
    "plt.bar(range(len(D)), D.values(), align='center', color='purple')\n",
    "plt.xticks(range(len(D)), D.keys())\n",
    "plt.title(\"AUC values (Data Set #2)\")\n",
    "plt.show()"
   ]
  },
  {
   "cell_type": "code",
   "execution_count": 123,
   "metadata": {
    "collapsed": false
   },
   "outputs": [
    {
     "data": {
      "image/png": "[encoded data removed]",
      "text/plain": [
       "<matplotlib.figure.Figure at 0x6fedc978>"
      ]
     },
     "metadata": {},
     "output_type": "display_data"
    }
   ],
   "source": [
    "D = {u'MNB':0.037000, u'GNB': 0.015000, u'KNN':3.725000, u'LR':0.431000, u'Poly': 37.796000, \\\n",
    "     u'Gaus':37.539000, u'CTree':0.068000, u'Bag': 14.685000, u'RFrt':0.671000, u'BTrees':1.715000}\n",
    "\n",
    "plt.bar(range(len(D)), D.values(), align='center', color='y')\n",
    "plt.xticks(range(len(D)), D.keys())\n",
    "plt.title(\"ROC calculation time (Data Set #2)\")\n",
    "plt.show()"
   ]
  },
  {
   "cell_type": "markdown",
   "metadata": {},
   "source": [
    "## Conclusions:\n",
    "1. In terms of AUC, SVM Gaussian Kernel (0.901784) is the best, followed by Logistic Regression (0.889228) and Naive Bayes (0.871943).\n",
    "2. In terms of operation time, Gaussian Naive Bayes (0.015) is the best, followed by Multinomial Naive Bayes (0.037) and Classification Tree (0.068).\n",
    "3. Generally speaking, Naive Bayes is considered to be the best machine learning method for Data Set #2."
   ]
  }
 ],
 "metadata": {
  "kernelspec": {
   "display_name": "Python 2",
   "language": "python",
   "name": "python2"
  },
  "language_info": {
   "codemirror_mode": {
    "name": "ipython",
    "version": 2
   },
   "file_extension": ".py",
   "mimetype": "text/x-python",
   "name": "python",
   "nbconvert_exporter": "python",
   "pygments_lexer": "ipython2",
   "version": "2.7.10"
  }
 },
 "nbformat": 4,
 "nbformat_minor": 0
}
